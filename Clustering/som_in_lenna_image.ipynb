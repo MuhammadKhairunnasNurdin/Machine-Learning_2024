{
 "cells": [
  {
   "metadata": {},
   "cell_type": "markdown",
   "source": "# **SOM for Segmentation of Lenna Image**",
   "id": "a98a334c781b5bae"
  },
  {
   "metadata": {},
   "cell_type": "markdown",
   "source": "## **Importing Libraries**",
   "id": "87efc7ac5daaef83"
  },
  {
   "metadata": {
    "ExecuteTime": {
     "end_time": "2024-10-15T17:59:05.468167Z",
     "start_time": "2024-10-15T17:59:05.428185Z"
    }
   },
   "cell_type": "code",
   "source": [
    "import numpy as np\n",
    "import matplotlib.pyplot as plt\n",
    "from skimage import io"
   ],
   "id": "2de62e1aabdaa284",
   "outputs": [],
   "execution_count": 1
  },
  {
   "metadata": {},
   "cell_type": "markdown",
   "source": "## **Function for Weight Initialization**",
   "id": "57102ff3924ba02e"
  },
  {
   "metadata": {
    "ExecuteTime": {
     "end_time": "2024-10-15T17:59:05.475791Z",
     "start_time": "2024-10-15T17:59:05.472580Z"
    }
   },
   "cell_type": "code",
   "source": [
    "def initialize_weights(input_shape, output_shape):\n",
    "    weights = np.random.rand(output_shape[0], output_shape[1], input_shape[2])\n",
    "    return weights"
   ],
   "id": "f6eceb1833d1a7c0",
   "outputs": [],
   "execution_count": 2
  },
  {
   "metadata": {},
   "cell_type": "markdown",
   "source": "## **Function to Calculate Distance between SOM Weights and Vector Input**",
   "id": "491772f4b9f9f2bd"
  },
  {
   "metadata": {
    "ExecuteTime": {
     "end_time": "2024-10-15T17:59:05.522477Z",
     "start_time": "2024-10-15T17:59:05.519642Z"
    }
   },
   "cell_type": "code",
   "source": [
    "def calculate_distance(input_vector, weights):\n",
    "    distance = np.linalg.norm(input_vector - weights, axis=2)\n",
    "    return distance"
   ],
   "id": "177f8c5bd67d0681",
   "outputs": [],
   "execution_count": 3
  },
  {
   "metadata": {},
   "cell_type": "markdown",
   "source": "## **Function to Search Winner Index**",
   "id": "83f3e353ff02a9a0"
  },
  {
   "metadata": {
    "ExecuteTime": {
     "end_time": "2024-10-15T17:59:05.567330Z",
     "start_time": "2024-10-15T17:59:05.564125Z"
    }
   },
   "cell_type": "code",
   "source": [
    "def find_winner_unit_in_image(input_vector, weights):\n",
    "    distance = calculate_distance(input_vector, weights)\n",
    "    winner_index = np.unravel_index(np.argmin(distance), distance.shape)\n",
    "    return winner_index"
   ],
   "id": "2e756c9707065ff2",
   "outputs": [],
   "execution_count": 4
  },
  {
   "metadata": {},
   "cell_type": "markdown",
   "source": "## **Function to Persuade SOM Weight**",
   "id": "26de7593e4e4e1"
  },
  {
   "metadata": {
    "ExecuteTime": {
     "end_time": "2024-10-15T17:59:05.623631Z",
     "start_time": "2024-10-15T17:59:05.614173Z"
    }
   },
   "cell_type": "code",
   "source": [
    "def update_weights(input_vector, weights, winner, learning_rate, neighborhood_radius):\n",
    "    distances = np.linalg.norm(np.indices(weights.shape[:2]).T - np.array(winner).reshape(1, -1), axis=2)\n",
    "    influence = np.exp(-distances / (2 * neighborhood_radius**2))\n",
    "    weights += learning_rate * influence[:, :, np.newaxis] * (input_vector - weights)"
   ],
   "id": "3733aad8fc5d6e0",
   "outputs": [],
   "execution_count": 5
  },
  {
   "metadata": {},
   "cell_type": "markdown",
   "source": "## **Function to Train SOM**",
   "id": "a60db43ca7e6945"
  },
  {
   "metadata": {
    "ExecuteTime": {
     "end_time": "2024-10-15T17:59:05.683348Z",
     "start_time": "2024-10-15T17:59:05.673744Z"
    }
   },
   "cell_type": "code",
   "source": [
    "def train_som(image, num_epochs, initial_learning_rate, initial_neighborhood_radius):\n",
    "    input_shape = image.shape\n",
    "    # size of the SOM relate with sum channel of input image\n",
    "    som_shape = (10, 10, input_shape[2])  \n",
    "    weights = initialize_weights(input_shape, som_shape)\n",
    "\n",
    "    for epoch in range(num_epochs):\n",
    "        # update learning rate and neighborhood radius\n",
    "        learning_rate = initial_learning_rate * np.exp(-epoch / num_epochs)\n",
    "        neighborhood_radius = initial_neighborhood_radius * np.exp(-epoch / num_epochs)\n",
    "        # iterate over all pixels in the image\n",
    "        # and update the weights of the SOM\n",
    "        for i in range(input_shape[0]):\n",
    "            for j in range(input_shape[1]):\n",
    "                input_vector = image[i, j, :]\n",
    "                winner = find_winner_unit_in_image(input_vector, weights)\n",
    "                update_weights(input_vector, weights, winner, learning_rate, neighborhood_radius)\n",
    "                \n",
    "    return weights"
   ],
   "id": "9fc23bf54d36287b",
   "outputs": [],
   "execution_count": 6
  },
  {
   "metadata": {},
   "cell_type": "markdown",
   "source": "## **Load Lenna Image**",
   "id": "966fabbae84b7d8d"
  },
  {
   "metadata": {
    "ExecuteTime": {
     "end_time": "2024-10-15T17:59:05.753792Z",
     "start_time": "2024-10-15T17:59:05.729268Z"
    }
   },
   "cell_type": "code",
   "source": [
    "lenna_path = 'Data/Lenna.png'\n",
    "lenna = io.imread(lenna_path) / 255.0"
   ],
   "id": "d3a2f54ea269260e",
   "outputs": [],
   "execution_count": 7
  },
  {
   "metadata": {},
   "cell_type": "markdown",
   "source": "## **Train SOM**",
   "id": "c47a5e10a1b287b7"
  },
  {
   "metadata": {
    "ExecuteTime": {
     "end_time": "2024-10-15T18:05:13.873992Z",
     "start_time": "2024-10-15T17:59:05.776793Z"
    }
   },
   "cell_type": "code",
   "source": [
    "num_epochs = 100\n",
    "initial_learning_rate = 0.1\n",
    "initial_neighborhood_radius = 5\n",
    "trained_weights = train_som(lenna, num_epochs, initial_learning_rate, initial_neighborhood_radius)"
   ],
   "id": "4b34b7775c8b0cc7",
   "outputs": [
    {
     "ename": "KeyboardInterrupt",
     "evalue": "",
     "output_type": "error",
     "traceback": [
      "\u001B[0;31m---------------------------------------------------------------------------\u001B[0m",
      "\u001B[0;31mKeyboardInterrupt\u001B[0m                         Traceback (most recent call last)",
      "Cell \u001B[0;32mIn[8], line 4\u001B[0m\n\u001B[1;32m      2\u001B[0m initial_learning_rate \u001B[38;5;241m=\u001B[39m \u001B[38;5;241m0.1\u001B[39m\n\u001B[1;32m      3\u001B[0m initial_neighborhood_radius \u001B[38;5;241m=\u001B[39m \u001B[38;5;241m5\u001B[39m\n\u001B[0;32m----> 4\u001B[0m trained_weights \u001B[38;5;241m=\u001B[39m train_som(lenna, num_epochs, initial_learning_rate, initial_neighborhood_radius)\n",
      "Cell \u001B[0;32mIn[6], line 16\u001B[0m, in \u001B[0;36mtrain_som\u001B[0;34m(image, num_epochs, initial_learning_rate, initial_neighborhood_radius)\u001B[0m\n\u001B[1;32m     14\u001B[0m         \u001B[38;5;28;01mfor\u001B[39;00m j \u001B[38;5;129;01min\u001B[39;00m \u001B[38;5;28mrange\u001B[39m(input_shape[\u001B[38;5;241m1\u001B[39m]):\n\u001B[1;32m     15\u001B[0m             input_vector \u001B[38;5;241m=\u001B[39m image[i, j, :]\n\u001B[0;32m---> 16\u001B[0m             winner \u001B[38;5;241m=\u001B[39m find_winner_unit_in_image(input_vector, weights)\n\u001B[1;32m     17\u001B[0m             update_weights(input_vector, weights, winner, learning_rate, neighborhood_radius)\n\u001B[1;32m     19\u001B[0m \u001B[38;5;28;01mreturn\u001B[39;00m weights\n",
      "Cell \u001B[0;32mIn[4], line 2\u001B[0m, in \u001B[0;36mfind_winner_unit_in_image\u001B[0;34m(input_vector, weights)\u001B[0m\n\u001B[1;32m      1\u001B[0m \u001B[38;5;28;01mdef\u001B[39;00m \u001B[38;5;21mfind_winner_unit_in_image\u001B[39m(input_vector, weights):\n\u001B[0;32m----> 2\u001B[0m     distance \u001B[38;5;241m=\u001B[39m calculate_distance(input_vector, weights)\n\u001B[1;32m      3\u001B[0m     winner_index \u001B[38;5;241m=\u001B[39m np\u001B[38;5;241m.\u001B[39munravel_index(np\u001B[38;5;241m.\u001B[39margmin(distance), distance\u001B[38;5;241m.\u001B[39mshape)\n\u001B[1;32m      4\u001B[0m     \u001B[38;5;28;01mreturn\u001B[39;00m winner_index\n",
      "Cell \u001B[0;32mIn[3], line 2\u001B[0m, in \u001B[0;36mcalculate_distance\u001B[0;34m(input_vector, weights)\u001B[0m\n\u001B[1;32m      1\u001B[0m \u001B[38;5;28;01mdef\u001B[39;00m \u001B[38;5;21mcalculate_distance\u001B[39m(input_vector, weights):\n\u001B[0;32m----> 2\u001B[0m     distance \u001B[38;5;241m=\u001B[39m np\u001B[38;5;241m.\u001B[39mlinalg\u001B[38;5;241m.\u001B[39mnorm(input_vector \u001B[38;5;241m-\u001B[39m weights, axis\u001B[38;5;241m=\u001B[39m\u001B[38;5;241m2\u001B[39m)\n\u001B[1;32m      3\u001B[0m     \u001B[38;5;28;01mreturn\u001B[39;00m distance\n",
      "File \u001B[0;32m~/miniconda3/envs/Machine-Learning_2024/lib/python3.12/site-packages/numpy/linalg/linalg.py:2379\u001B[0m, in \u001B[0;36m_norm_dispatcher\u001B[0;34m(x, ord, axis, keepdims)\u001B[0m\n\u001B[1;32m   2375\u001B[0m     result \u001B[38;5;241m=\u001B[39m op(svd(y, compute_uv\u001B[38;5;241m=\u001B[39m\u001B[38;5;28;01mFalse\u001B[39;00m), axis\u001B[38;5;241m=\u001B[39m\u001B[38;5;241m-\u001B[39m\u001B[38;5;241m1\u001B[39m)\n\u001B[1;32m   2376\u001B[0m     \u001B[38;5;28;01mreturn\u001B[39;00m result\n\u001B[0;32m-> 2379\u001B[0m \u001B[38;5;28;01mdef\u001B[39;00m \u001B[38;5;21m_norm_dispatcher\u001B[39m(x, \u001B[38;5;28mord\u001B[39m\u001B[38;5;241m=\u001B[39m\u001B[38;5;28;01mNone\u001B[39;00m, axis\u001B[38;5;241m=\u001B[39m\u001B[38;5;28;01mNone\u001B[39;00m, keepdims\u001B[38;5;241m=\u001B[39m\u001B[38;5;28;01mNone\u001B[39;00m):\n\u001B[1;32m   2380\u001B[0m     \u001B[38;5;28;01mreturn\u001B[39;00m (x,)\n\u001B[1;32m   2383\u001B[0m \u001B[38;5;129m@array_function_dispatch\u001B[39m(_norm_dispatcher)\n\u001B[1;32m   2384\u001B[0m \u001B[38;5;28;01mdef\u001B[39;00m \u001B[38;5;21mnorm\u001B[39m(x, \u001B[38;5;28mord\u001B[39m\u001B[38;5;241m=\u001B[39m\u001B[38;5;28;01mNone\u001B[39;00m, axis\u001B[38;5;241m=\u001B[39m\u001B[38;5;28;01mNone\u001B[39;00m, keepdims\u001B[38;5;241m=\u001B[39m\u001B[38;5;28;01mFalse\u001B[39;00m):\n",
      "\u001B[0;31mKeyboardInterrupt\u001B[0m: "
     ]
    }
   ],
   "execution_count": 8
  },
  {
   "metadata": {},
   "cell_type": "code",
   "outputs": [],
   "execution_count": null,
   "source": [
    "# Visualisasi bobot SOM\n",
    "plt.imshow(trained_weights)\n",
    "plt.title('Trained SOM Weights for Lena')\n",
    "plt.show()"
   ],
   "id": "16fd5aea6540c144"
  }
 ],
 "metadata": {
  "kernelspec": {
   "display_name": "Python 3",
   "language": "python",
   "name": "python3"
  },
  "language_info": {
   "codemirror_mode": {
    "name": "ipython",
    "version": 2
   },
   "file_extension": ".py",
   "mimetype": "text/x-python",
   "name": "python",
   "nbconvert_exporter": "python",
   "pygments_lexer": "ipython2",
   "version": "2.7.6"
  }
 },
 "nbformat": 4,
 "nbformat_minor": 5
}
