{
 "cells": [
  {
   "metadata": {},
   "cell_type": "markdown",
   "source": "# *Load Data*",
   "id": "9f97a726876c4517"
  },
  {
   "cell_type": "code",
   "id": "initial_id",
   "metadata": {
    "collapsed": true,
    "ExecuteTime": {
     "end_time": "2024-09-09T15:09:12.935831Z",
     "start_time": "2024-09-09T15:09:12.920989Z"
    }
   },
   "source": [
    "import pandas as pd\n",
    "\n",
    "df = pd.read_csv('../Data/Titanic-Dataset-selected.csv')\n",
    "df.head()"
   ],
   "outputs": [
    {
     "data": {
      "text/plain": [
       "   Survived  Pclass       Age  Sex  Cabin\n",
       "0         0       3 -0.592481    1    115\n",
       "1         1       1  0.638789    0     81\n",
       "2         1       3 -0.284663    0    115\n",
       "3         1       1  0.407926    0     55\n",
       "4         0       3  0.407926    1    115"
      ],
      "text/html": [
       "<div>\n",
       "<style scoped>\n",
       "    .dataframe tbody tr th:only-of-type {\n",
       "        vertical-align: middle;\n",
       "    }\n",
       "\n",
       "    .dataframe tbody tr th {\n",
       "        vertical-align: top;\n",
       "    }\n",
       "\n",
       "    .dataframe thead th {\n",
       "        text-align: right;\n",
       "    }\n",
       "</style>\n",
       "<table border=\"1\" class=\"dataframe\">\n",
       "  <thead>\n",
       "    <tr style=\"text-align: right;\">\n",
       "      <th></th>\n",
       "      <th>Survived</th>\n",
       "      <th>Pclass</th>\n",
       "      <th>Age</th>\n",
       "      <th>Sex</th>\n",
       "      <th>Cabin</th>\n",
       "    </tr>\n",
       "  </thead>\n",
       "  <tbody>\n",
       "    <tr>\n",
       "      <th>0</th>\n",
       "      <td>0</td>\n",
       "      <td>3</td>\n",
       "      <td>-0.592481</td>\n",
       "      <td>1</td>\n",
       "      <td>115</td>\n",
       "    </tr>\n",
       "    <tr>\n",
       "      <th>1</th>\n",
       "      <td>1</td>\n",
       "      <td>1</td>\n",
       "      <td>0.638789</td>\n",
       "      <td>0</td>\n",
       "      <td>81</td>\n",
       "    </tr>\n",
       "    <tr>\n",
       "      <th>2</th>\n",
       "      <td>1</td>\n",
       "      <td>3</td>\n",
       "      <td>-0.284663</td>\n",
       "      <td>0</td>\n",
       "      <td>115</td>\n",
       "    </tr>\n",
       "    <tr>\n",
       "      <th>3</th>\n",
       "      <td>1</td>\n",
       "      <td>1</td>\n",
       "      <td>0.407926</td>\n",
       "      <td>0</td>\n",
       "      <td>55</td>\n",
       "    </tr>\n",
       "    <tr>\n",
       "      <th>4</th>\n",
       "      <td>0</td>\n",
       "      <td>3</td>\n",
       "      <td>0.407926</td>\n",
       "      <td>1</td>\n",
       "      <td>115</td>\n",
       "    </tr>\n",
       "  </tbody>\n",
       "</table>\n",
       "</div>"
      ]
     },
     "execution_count": 6,
     "metadata": {},
     "output_type": "execute_result"
    }
   ],
   "execution_count": 6
  },
  {
   "metadata": {},
   "cell_type": "markdown",
   "source": "# *Split Data*",
   "id": "9f4b530240202d13"
  },
  {
   "metadata": {},
   "cell_type": "markdown",
   "source": [
    "Random Split: Samples are randomly divided into subsets without considering the distribution of the target labels.\n",
    "\n",
    "A random split might result in one subset having an imbalanced representation, such as:\n",
    "- Train: ['A', 'A', 'B'] (66% 'A', 33% 'B', 0% 'C')`\n",
    "- Test: ['A', 'B', 'C'] (33% 'A', 33% 'B', 33% 'C')\n",
    "\n",
    "Notice that the training set has no samples of class C, which could be problematic."
   ],
   "id": "e7221c90cb6c85ee"
  },
  {
   "metadata": {},
   "cell_type": "code",
   "outputs": [],
   "execution_count": null,
   "source": [
    "# import train_test_split to split the data\n",
    "from sklearn.model_selection import train_test_split\n",
    "\n",
    "# split the data into training, testing, and validating\n",
    "# with ratio 80 training :10 testing : 10 validating\n",
    "\n",
    "# split the 100% data into train 80% and test 20%\n",
    "df_train, df_unseen = train_test_split(df, test_size=0.2, random_state=0)\n",
    "\n",
    "# split test 20% from original 100% \n",
    "# to validation 50% from 20% and test 50% from 20%\n",
    "df_val, df_test = train_test_split(df_unseen, test_size=0.5, random_state=0)\n",
    "\n",
    "# check Count each of the data\n",
    "print(f'Count of Original Data: {df.shape[0]}')\n",
    "print(f'Count of Training Data: {df_train.shape[0]}')\n",
    "print(f'Count of Validation Data: {df_val.shape[0]}')\n",
    "print(f'Count of Testing Data: {df_test.shape[0]}')\n",
    "\n",
    "# check ratio in Survived label (0 and 1 value) data\n",
    "# By comparing the counts across the different subsets (training, validation, testing),\n",
    "# you can ensure that the splits are representative of the original data.\n",
    "# If one subset has a significantly different distribution,\n",
    "# it could indicate a problem with the split, leading to biased model performance.\n",
    "print(f'Count label Original Data: {df.Survived.value_counts()}')\n",
    "print(f'Count label Training Data: {df_train.Survived.value_counts()}')\n",
    "print(f'Count label Validation Data: {df_val.Survived.value_counts()}')\n",
    "print(f'Count label Testing Data: {df_test.Survived.value_counts()}')"
   ],
   "id": "1ee9b5d59e2a03e"
  }
 ],
 "metadata": {
  "kernelspec": {
   "display_name": "Python 3",
   "language": "python",
   "name": "python3"
  },
  "language_info": {
   "codemirror_mode": {
    "name": "ipython",
    "version": 2
   },
   "file_extension": ".py",
   "mimetype": "text/x-python",
   "name": "python",
   "nbconvert_exporter": "python",
   "pygments_lexer": "ipython2",
   "version": "2.7.6"
  }
 },
 "nbformat": 4,
 "nbformat_minor": 5
}
