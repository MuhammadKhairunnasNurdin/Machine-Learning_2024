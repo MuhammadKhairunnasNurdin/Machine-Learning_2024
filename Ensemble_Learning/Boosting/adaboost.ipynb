{
 "cells": [
  {
   "metadata": {},
   "cell_type": "markdown",
   "source": [
    "# **Case**:\n",
    "In this case we will use one of the boosting methods, namely AdaBoost, to classify the type of Iris flower.  In this exercise we will use the very commonly used Iris dataset.  This exercise will make predictions predicting 3 types of Iris flowers, namely, Iris Setosa, Iris Versicolor, and Iris Virginica based on the length and width of the sepals and petals.\n",
    "\n",
    " We will compare the performance of the Decision Tree and AdaBoost algorithms in this case. "
   ],
   "id": "4429bc1650adce4a"
  },
  {
   "metadata": {},
   "cell_type": "markdown",
   "source": "# **Import Libraries and Load Data**",
   "id": "9a652349375714cd"
  },
  {
   "metadata": {
    "ExecuteTime": {
     "end_time": "2024-10-08T14:43:48.382938Z",
     "start_time": "2024-10-08T14:43:48.365447Z"
    }
   },
   "cell_type": "code",
   "source": [
    "import numpy as np\n",
    "import pandas as pd\n",
    "from sklearn.tree import DecisionTreeClassifier\n",
    "from sklearn.ensemble import AdaBoostClassifier\n",
    "from sklearn.model_selection import train_test_split\n",
    "from sklearn.metrics import accuracy_score, classification_report\n",
    "from sklearn.preprocessing import LabelEncoder\n",
    "\n",
    "# Load the data\n",
    "df = pd.read_csv('../Data/iris.csv')\n",
    "# show the first 5 rows of the data\n",
    "df.head()"
   ],
   "id": "7658c2e70b512f0d",
   "outputs": [
    {
     "data": {
      "text/plain": [
       "   Id  SepalLengthCm  SepalWidthCm  PetalLengthCm  PetalWidthCm      Species\n",
       "0   1            5.1           3.5            1.4           0.2  Iris-setosa\n",
       "1   2            4.9           3.0            1.4           0.2  Iris-setosa\n",
       "2   3            4.7           3.2            1.3           0.2  Iris-setosa\n",
       "3   4            4.6           3.1            1.5           0.2  Iris-setosa\n",
       "4   5            5.0           3.6            1.4           0.2  Iris-setosa"
      ],
      "text/html": [
       "<div>\n",
       "<style scoped>\n",
       "    .dataframe tbody tr th:only-of-type {\n",
       "        vertical-align: middle;\n",
       "    }\n",
       "\n",
       "    .dataframe tbody tr th {\n",
       "        vertical-align: top;\n",
       "    }\n",
       "\n",
       "    .dataframe thead th {\n",
       "        text-align: right;\n",
       "    }\n",
       "</style>\n",
       "<table border=\"1\" class=\"dataframe\">\n",
       "  <thead>\n",
       "    <tr style=\"text-align: right;\">\n",
       "      <th></th>\n",
       "      <th>Id</th>\n",
       "      <th>SepalLengthCm</th>\n",
       "      <th>SepalWidthCm</th>\n",
       "      <th>PetalLengthCm</th>\n",
       "      <th>PetalWidthCm</th>\n",
       "      <th>Species</th>\n",
       "    </tr>\n",
       "  </thead>\n",
       "  <tbody>\n",
       "    <tr>\n",
       "      <th>0</th>\n",
       "      <td>1</td>\n",
       "      <td>5.1</td>\n",
       "      <td>3.5</td>\n",
       "      <td>1.4</td>\n",
       "      <td>0.2</td>\n",
       "      <td>Iris-setosa</td>\n",
       "    </tr>\n",
       "    <tr>\n",
       "      <th>1</th>\n",
       "      <td>2</td>\n",
       "      <td>4.9</td>\n",
       "      <td>3.0</td>\n",
       "      <td>1.4</td>\n",
       "      <td>0.2</td>\n",
       "      <td>Iris-setosa</td>\n",
       "    </tr>\n",
       "    <tr>\n",
       "      <th>2</th>\n",
       "      <td>3</td>\n",
       "      <td>4.7</td>\n",
       "      <td>3.2</td>\n",
       "      <td>1.3</td>\n",
       "      <td>0.2</td>\n",
       "      <td>Iris-setosa</td>\n",
       "    </tr>\n",
       "    <tr>\n",
       "      <th>3</th>\n",
       "      <td>4</td>\n",
       "      <td>4.6</td>\n",
       "      <td>3.1</td>\n",
       "      <td>1.5</td>\n",
       "      <td>0.2</td>\n",
       "      <td>Iris-setosa</td>\n",
       "    </tr>\n",
       "    <tr>\n",
       "      <th>4</th>\n",
       "      <td>5</td>\n",
       "      <td>5.0</td>\n",
       "      <td>3.6</td>\n",
       "      <td>1.4</td>\n",
       "      <td>0.2</td>\n",
       "      <td>Iris-setosa</td>\n",
       "    </tr>\n",
       "  </tbody>\n",
       "</table>\n",
       "</div>"
      ]
     },
     "execution_count": 3,
     "metadata": {},
     "output_type": "execute_result"
    }
   ],
   "execution_count": 3
  },
  {
   "metadata": {},
   "cell_type": "markdown",
   "source": "# **Check Null Column**",
   "id": "6ca21c61635cb02c"
  },
  {
   "metadata": {
    "ExecuteTime": {
     "end_time": "2024-10-08T14:43:51.867160Z",
     "start_time": "2024-10-08T14:43:51.857232Z"
    }
   },
   "cell_type": "code",
   "source": "df.isnull().sum()",
   "id": "559cb382501dd057",
   "outputs": [
    {
     "data": {
      "text/plain": [
       "Id               0\n",
       "SepalLengthCm    0\n",
       "SepalWidthCm     0\n",
       "PetalLengthCm    0\n",
       "PetalWidthCm     0\n",
       "Species          0\n",
       "dtype: int64"
      ]
     },
     "execution_count": 4,
     "metadata": {},
     "output_type": "execute_result"
    }
   ],
   "execution_count": 4
  },
  {
   "metadata": {},
   "cell_type": "markdown",
   "source": "# **Feature Extraction and Label Encoding**",
   "id": "cb222da7040f2a26"
  },
  {
   "metadata": {
    "ExecuteTime": {
     "end_time": "2024-10-08T14:46:26.405075Z",
     "start_time": "2024-10-08T14:46:26.396067Z"
    }
   },
   "cell_type": "code",
   "source": [
    "# Feature Extraction\n",
    "# slice dataframe from 'sepal_length' to 'petal_width' column\n",
    "X = df.iloc[:, 2 : -1]\n",
    "y = df['Species']\n",
    "\n",
    "# Label Encoding\n",
    "y = LabelEncoder().fit_transform(y)\n",
    "\n",
    "# check shape feature shape\n",
    "print(X.shape)\n",
    "\n",
    "# check label value\n",
    "print(y)"
   ],
   "id": "19332f907624aa95",
   "outputs": [
    {
     "name": "stdout",
     "output_type": "stream",
     "text": [
      "(150, 3)\n",
      "[0 0 0 0 0 0 0 0 0 0 0 0 0 0 0 0 0 0 0 0 0 0 0 0 0 0 0 0 0 0 0 0 0 0 0 0 0\n",
      " 0 0 0 0 0 0 0 0 0 0 0 0 0 1 1 1 1 1 1 1 1 1 1 1 1 1 1 1 1 1 1 1 1 1 1 1 1\n",
      " 1 1 1 1 1 1 1 1 1 1 1 1 1 1 1 1 1 1 1 1 1 1 1 1 1 1 2 2 2 2 2 2 2 2 2 2 2\n",
      " 2 2 2 2 2 2 2 2 2 2 2 2 2 2 2 2 2 2 2 2 2 2 2 2 2 2 2 2 2 2 2 2 2 2 2 2 2\n",
      " 2 2]\n"
     ]
    }
   ],
   "execution_count": 7
  },
  {
   "metadata": {},
   "cell_type": "markdown",
   "source": "# **Split Data**",
   "id": "c49e1bfd2df211d4"
  },
  {
   "metadata": {
    "ExecuteTime": {
     "end_time": "2024-10-08T14:46:35.564926Z",
     "start_time": "2024-10-08T14:46:35.549008Z"
    }
   },
   "cell_type": "code",
   "source": "X_train, X_test, y_train, y_test = train_test_split(X, y, test_size=0.2, random_state=1)",
   "id": "67ae96f77dc80f47",
   "outputs": [],
   "execution_count": 8
  },
  {
   "metadata": {},
   "cell_type": "markdown",
   "source": "# **Train Model**",
   "id": "be7b725af8e5ef64"
  },
  {
   "metadata": {},
   "cell_type": "markdown",
   "source": "## **Decision Tree**",
   "id": "1447bf61da971c0f"
  },
  {
   "metadata": {
    "ExecuteTime": {
     "end_time": "2024-10-08T14:46:43.871533Z",
     "start_time": "2024-10-08T14:46:43.851431Z"
    }
   },
   "cell_type": "code",
   "source": [
    "# By default, scikit-learn's DecisionTreeClassifier will use the \"Gini\" \n",
    "# value for the criteria\n",
    "#  There are several \"hyperparamaters\" that can be used.  Please read the \n",
    "#  documentation\n",
    "#  In this case we will use the default parameters \n",
    "dt = DecisionTreeClassifier()\n",
    "\n",
    "# fit data \n",
    "dt.fit(X_train, y_train)\n",
    "\n",
    "# predict test set\n",
    "y_pred_dt = dt.predict(X_test)\n",
    "\n",
    "# calculate test data accuracy score\n",
    "acc_dt = accuracy_score(y_test, y_pred_dt)\n",
    "print(f'Test set accuracy {acc_dt}')\n",
    "print('Round Test set accuracy: {:.2f}'.format(acc_dt))"
   ],
   "id": "b3ea2a6fc8e5a8d3",
   "outputs": [
    {
     "name": "stdout",
     "output_type": "stream",
     "text": [
      "Test set accuracy 0.9666666666666667\n",
      "Round Test set accuracy: 0.97\n"
     ]
    }
   ],
   "execution_count": 9
  },
  {
   "metadata": {},
   "cell_type": "markdown",
   "source": "## **Random Forest**",
   "id": "c86f6568d22f8c62"
  },
  {
   "metadata": {
    "ExecuteTime": {
     "end_time": "2024-10-08T14:54:13.616050Z",
     "start_time": "2024-10-08T14:54:13.598855Z"
    }
   },
   "cell_type": "code",
   "source": [
    "# In this case we will use the estimator in RandomForest\n",
    "# For detailed parameters (hyperparameters) please check the documentation \n",
    "# if we use default parameters, in py 3.12 will give warning\n",
    "# especially for algorithm 'SAMME.R' is not supported\n",
    "# so we will use n_estimators = 3 and algorithm = 'SAMME' to create same result\n",
    "ada = AdaBoostClassifier(n_estimators=3, algorithm='SAMME')\n",
    "\n",
    "# fit data\n",
    "ada.fit(X_train, y_train)\n",
    "\n",
    "# predict test set\n",
    "y_pred_ada = ada.predict(X_test)\n",
    "\n",
    "# calculate test data accuracy score\n",
    "acc_rf = accuracy_score(y_test, y_pred_ada)\n",
    "print(f'Test set accuracy {acc_rf}')\n",
    "print('Round Test set accuracy: {:.2f}'.format(acc_rf))"
   ],
   "id": "c702aa0b90deb92b",
   "outputs": [
    {
     "name": "stdout",
     "output_type": "stream",
     "text": [
      "Test set accuracy 0.9666666666666667\n",
      "Round Test set accuracy: 0.97\n"
     ]
    }
   ],
   "execution_count": 23
  }
 ],
 "metadata": {
  "kernelspec": {
   "display_name": "Python 3",
   "language": "python",
   "name": "python3"
  },
  "language_info": {
   "codemirror_mode": {
    "name": "ipython",
    "version": 2
   },
   "file_extension": ".py",
   "mimetype": "text/x-python",
   "name": "python",
   "nbconvert_exporter": "python",
   "pygments_lexer": "ipython2",
   "version": "2.7.6"
  }
 },
 "nbformat": 4,
 "nbformat_minor": 5
}
