{
 "cells": [
  {
   "metadata": {},
   "cell_type": "markdown",
   "source": [
    "# **Case**:\n",
    "In this case we will use one of the stacking methods, namely voting, to classify diabetes patients according to several characteristics.  Patients will be classified into patients suffering from diabetes (1) and not suffering from diabetes (0).  \n",
    "\n",
    "First of all, we will use several classification algorithms separately, namely Logistic Regression, SVM polynomial, and Decision Tree.  After that, we will combine the performance of the 3 algorithms using the ensemble voting method. "
   ],
   "id": "4429bc1650adce4a"
  },
  {
   "metadata": {},
   "cell_type": "markdown",
   "source": "# **Import Libraries and Load Data**",
   "id": "9a652349375714cd"
  },
  {
   "metadata": {
    "ExecuteTime": {
     "end_time": "2024-10-10T07:37:31.473971Z",
     "start_time": "2024-10-10T07:37:31.462015Z"
    }
   },
   "cell_type": "code",
   "source": [
    "import numpy as np\n",
    "import pandas as pd\n",
    "from sklearn.svm import SVC\n",
    "from sklearn.linear_model import LogisticRegression\n",
    "from sklearn.tree import DecisionTreeClassifier\n",
    "from sklearn.ensemble import VotingClassifier\n",
    "from sklearn.model_selection import train_test_split\n",
    "from sklearn.model_selection import GridSearchCV\n",
    "from sklearn.metrics import accuracy_score, classification_report\n",
    "\n",
    "# Load the data\n",
    "dbt = pd.read_csv('../Data/diabetes.csv')\n",
    "# show the first 5 rows of the data\n",
    "dbt.head(10)"
   ],
   "id": "7658c2e70b512f0d",
   "outputs": [
    {
     "data": {
      "text/plain": [
       "   Pregnancies  Glucose  BloodPressure  SkinThickness  Insulin   BMI  \\\n",
       "0            6      148             72             35        0  33.6   \n",
       "1            1       85             66             29        0  26.6   \n",
       "2            8      183             64              0        0  23.3   \n",
       "3            1       89             66             23       94  28.1   \n",
       "4            0      137             40             35      168  43.1   \n",
       "5            5      116             74              0        0  25.6   \n",
       "6            3       78             50             32       88  31.0   \n",
       "7           10      115              0              0        0  35.3   \n",
       "8            2      197             70             45      543  30.5   \n",
       "9            8      125             96              0        0   0.0   \n",
       "\n",
       "   DiabetesPedigreeFunction  Age  Outcome  \n",
       "0                     0.627   50        1  \n",
       "1                     0.351   31        0  \n",
       "2                     0.672   32        1  \n",
       "3                     0.167   21        0  \n",
       "4                     2.288   33        1  \n",
       "5                     0.201   30        0  \n",
       "6                     0.248   26        1  \n",
       "7                     0.134   29        0  \n",
       "8                     0.158   53        1  \n",
       "9                     0.232   54        1  "
      ],
      "text/html": [
       "<div>\n",
       "<style scoped>\n",
       "    .dataframe tbody tr th:only-of-type {\n",
       "        vertical-align: middle;\n",
       "    }\n",
       "\n",
       "    .dataframe tbody tr th {\n",
       "        vertical-align: top;\n",
       "    }\n",
       "\n",
       "    .dataframe thead th {\n",
       "        text-align: right;\n",
       "    }\n",
       "</style>\n",
       "<table border=\"1\" class=\"dataframe\">\n",
       "  <thead>\n",
       "    <tr style=\"text-align: right;\">\n",
       "      <th></th>\n",
       "      <th>Pregnancies</th>\n",
       "      <th>Glucose</th>\n",
       "      <th>BloodPressure</th>\n",
       "      <th>SkinThickness</th>\n",
       "      <th>Insulin</th>\n",
       "      <th>BMI</th>\n",
       "      <th>DiabetesPedigreeFunction</th>\n",
       "      <th>Age</th>\n",
       "      <th>Outcome</th>\n",
       "    </tr>\n",
       "  </thead>\n",
       "  <tbody>\n",
       "    <tr>\n",
       "      <th>0</th>\n",
       "      <td>6</td>\n",
       "      <td>148</td>\n",
       "      <td>72</td>\n",
       "      <td>35</td>\n",
       "      <td>0</td>\n",
       "      <td>33.6</td>\n",
       "      <td>0.627</td>\n",
       "      <td>50</td>\n",
       "      <td>1</td>\n",
       "    </tr>\n",
       "    <tr>\n",
       "      <th>1</th>\n",
       "      <td>1</td>\n",
       "      <td>85</td>\n",
       "      <td>66</td>\n",
       "      <td>29</td>\n",
       "      <td>0</td>\n",
       "      <td>26.6</td>\n",
       "      <td>0.351</td>\n",
       "      <td>31</td>\n",
       "      <td>0</td>\n",
       "    </tr>\n",
       "    <tr>\n",
       "      <th>2</th>\n",
       "      <td>8</td>\n",
       "      <td>183</td>\n",
       "      <td>64</td>\n",
       "      <td>0</td>\n",
       "      <td>0</td>\n",
       "      <td>23.3</td>\n",
       "      <td>0.672</td>\n",
       "      <td>32</td>\n",
       "      <td>1</td>\n",
       "    </tr>\n",
       "    <tr>\n",
       "      <th>3</th>\n",
       "      <td>1</td>\n",
       "      <td>89</td>\n",
       "      <td>66</td>\n",
       "      <td>23</td>\n",
       "      <td>94</td>\n",
       "      <td>28.1</td>\n",
       "      <td>0.167</td>\n",
       "      <td>21</td>\n",
       "      <td>0</td>\n",
       "    </tr>\n",
       "    <tr>\n",
       "      <th>4</th>\n",
       "      <td>0</td>\n",
       "      <td>137</td>\n",
       "      <td>40</td>\n",
       "      <td>35</td>\n",
       "      <td>168</td>\n",
       "      <td>43.1</td>\n",
       "      <td>2.288</td>\n",
       "      <td>33</td>\n",
       "      <td>1</td>\n",
       "    </tr>\n",
       "    <tr>\n",
       "      <th>5</th>\n",
       "      <td>5</td>\n",
       "      <td>116</td>\n",
       "      <td>74</td>\n",
       "      <td>0</td>\n",
       "      <td>0</td>\n",
       "      <td>25.6</td>\n",
       "      <td>0.201</td>\n",
       "      <td>30</td>\n",
       "      <td>0</td>\n",
       "    </tr>\n",
       "    <tr>\n",
       "      <th>6</th>\n",
       "      <td>3</td>\n",
       "      <td>78</td>\n",
       "      <td>50</td>\n",
       "      <td>32</td>\n",
       "      <td>88</td>\n",
       "      <td>31.0</td>\n",
       "      <td>0.248</td>\n",
       "      <td>26</td>\n",
       "      <td>1</td>\n",
       "    </tr>\n",
       "    <tr>\n",
       "      <th>7</th>\n",
       "      <td>10</td>\n",
       "      <td>115</td>\n",
       "      <td>0</td>\n",
       "      <td>0</td>\n",
       "      <td>0</td>\n",
       "      <td>35.3</td>\n",
       "      <td>0.134</td>\n",
       "      <td>29</td>\n",
       "      <td>0</td>\n",
       "    </tr>\n",
       "    <tr>\n",
       "      <th>8</th>\n",
       "      <td>2</td>\n",
       "      <td>197</td>\n",
       "      <td>70</td>\n",
       "      <td>45</td>\n",
       "      <td>543</td>\n",
       "      <td>30.5</td>\n",
       "      <td>0.158</td>\n",
       "      <td>53</td>\n",
       "      <td>1</td>\n",
       "    </tr>\n",
       "    <tr>\n",
       "      <th>9</th>\n",
       "      <td>8</td>\n",
       "      <td>125</td>\n",
       "      <td>96</td>\n",
       "      <td>0</td>\n",
       "      <td>0</td>\n",
       "      <td>0.0</td>\n",
       "      <td>0.232</td>\n",
       "      <td>54</td>\n",
       "      <td>1</td>\n",
       "    </tr>\n",
       "  </tbody>\n",
       "</table>\n",
       "</div>"
      ]
     },
     "execution_count": 37,
     "metadata": {},
     "output_type": "execute_result"
    }
   ],
   "execution_count": 37
  },
  {
   "metadata": {},
   "cell_type": "markdown",
   "source": "# **Check Data Description**",
   "id": "94e02b9c5cebc07a"
  },
  {
   "metadata": {
    "ExecuteTime": {
     "end_time": "2024-10-10T07:37:31.579421Z",
     "start_time": "2024-10-10T07:37:31.538402Z"
    }
   },
   "cell_type": "code",
   "source": "dbt.describe()",
   "id": "8947622c5a33cc0b",
   "outputs": [
    {
     "data": {
      "text/plain": [
       "       Pregnancies     Glucose  BloodPressure  SkinThickness     Insulin  \\\n",
       "count   768.000000  768.000000     768.000000     768.000000  768.000000   \n",
       "mean      3.845052  120.894531      69.105469      20.536458   79.799479   \n",
       "std       3.369578   31.972618      19.355807      15.952218  115.244002   \n",
       "min       0.000000    0.000000       0.000000       0.000000    0.000000   \n",
       "25%       1.000000   99.000000      62.000000       0.000000    0.000000   \n",
       "50%       3.000000  117.000000      72.000000      23.000000   30.500000   \n",
       "75%       6.000000  140.250000      80.000000      32.000000  127.250000   \n",
       "max      17.000000  199.000000     122.000000      99.000000  846.000000   \n",
       "\n",
       "              BMI  DiabetesPedigreeFunction         Age     Outcome  \n",
       "count  768.000000                768.000000  768.000000  768.000000  \n",
       "mean    31.992578                  0.471876   33.240885    0.348958  \n",
       "std      7.884160                  0.331329   11.760232    0.476951  \n",
       "min      0.000000                  0.078000   21.000000    0.000000  \n",
       "25%     27.300000                  0.243750   24.000000    0.000000  \n",
       "50%     32.000000                  0.372500   29.000000    0.000000  \n",
       "75%     36.600000                  0.626250   41.000000    1.000000  \n",
       "max     67.100000                  2.420000   81.000000    1.000000  "
      ],
      "text/html": [
       "<div>\n",
       "<style scoped>\n",
       "    .dataframe tbody tr th:only-of-type {\n",
       "        vertical-align: middle;\n",
       "    }\n",
       "\n",
       "    .dataframe tbody tr th {\n",
       "        vertical-align: top;\n",
       "    }\n",
       "\n",
       "    .dataframe thead th {\n",
       "        text-align: right;\n",
       "    }\n",
       "</style>\n",
       "<table border=\"1\" class=\"dataframe\">\n",
       "  <thead>\n",
       "    <tr style=\"text-align: right;\">\n",
       "      <th></th>\n",
       "      <th>Pregnancies</th>\n",
       "      <th>Glucose</th>\n",
       "      <th>BloodPressure</th>\n",
       "      <th>SkinThickness</th>\n",
       "      <th>Insulin</th>\n",
       "      <th>BMI</th>\n",
       "      <th>DiabetesPedigreeFunction</th>\n",
       "      <th>Age</th>\n",
       "      <th>Outcome</th>\n",
       "    </tr>\n",
       "  </thead>\n",
       "  <tbody>\n",
       "    <tr>\n",
       "      <th>count</th>\n",
       "      <td>768.000000</td>\n",
       "      <td>768.000000</td>\n",
       "      <td>768.000000</td>\n",
       "      <td>768.000000</td>\n",
       "      <td>768.000000</td>\n",
       "      <td>768.000000</td>\n",
       "      <td>768.000000</td>\n",
       "      <td>768.000000</td>\n",
       "      <td>768.000000</td>\n",
       "    </tr>\n",
       "    <tr>\n",
       "      <th>mean</th>\n",
       "      <td>3.845052</td>\n",
       "      <td>120.894531</td>\n",
       "      <td>69.105469</td>\n",
       "      <td>20.536458</td>\n",
       "      <td>79.799479</td>\n",
       "      <td>31.992578</td>\n",
       "      <td>0.471876</td>\n",
       "      <td>33.240885</td>\n",
       "      <td>0.348958</td>\n",
       "    </tr>\n",
       "    <tr>\n",
       "      <th>std</th>\n",
       "      <td>3.369578</td>\n",
       "      <td>31.972618</td>\n",
       "      <td>19.355807</td>\n",
       "      <td>15.952218</td>\n",
       "      <td>115.244002</td>\n",
       "      <td>7.884160</td>\n",
       "      <td>0.331329</td>\n",
       "      <td>11.760232</td>\n",
       "      <td>0.476951</td>\n",
       "    </tr>\n",
       "    <tr>\n",
       "      <th>min</th>\n",
       "      <td>0.000000</td>\n",
       "      <td>0.000000</td>\n",
       "      <td>0.000000</td>\n",
       "      <td>0.000000</td>\n",
       "      <td>0.000000</td>\n",
       "      <td>0.000000</td>\n",
       "      <td>0.078000</td>\n",
       "      <td>21.000000</td>\n",
       "      <td>0.000000</td>\n",
       "    </tr>\n",
       "    <tr>\n",
       "      <th>25%</th>\n",
       "      <td>1.000000</td>\n",
       "      <td>99.000000</td>\n",
       "      <td>62.000000</td>\n",
       "      <td>0.000000</td>\n",
       "      <td>0.000000</td>\n",
       "      <td>27.300000</td>\n",
       "      <td>0.243750</td>\n",
       "      <td>24.000000</td>\n",
       "      <td>0.000000</td>\n",
       "    </tr>\n",
       "    <tr>\n",
       "      <th>50%</th>\n",
       "      <td>3.000000</td>\n",
       "      <td>117.000000</td>\n",
       "      <td>72.000000</td>\n",
       "      <td>23.000000</td>\n",
       "      <td>30.500000</td>\n",
       "      <td>32.000000</td>\n",
       "      <td>0.372500</td>\n",
       "      <td>29.000000</td>\n",
       "      <td>0.000000</td>\n",
       "    </tr>\n",
       "    <tr>\n",
       "      <th>75%</th>\n",
       "      <td>6.000000</td>\n",
       "      <td>140.250000</td>\n",
       "      <td>80.000000</td>\n",
       "      <td>32.000000</td>\n",
       "      <td>127.250000</td>\n",
       "      <td>36.600000</td>\n",
       "      <td>0.626250</td>\n",
       "      <td>41.000000</td>\n",
       "      <td>1.000000</td>\n",
       "    </tr>\n",
       "    <tr>\n",
       "      <th>max</th>\n",
       "      <td>17.000000</td>\n",
       "      <td>199.000000</td>\n",
       "      <td>122.000000</td>\n",
       "      <td>99.000000</td>\n",
       "      <td>846.000000</td>\n",
       "      <td>67.100000</td>\n",
       "      <td>2.420000</td>\n",
       "      <td>81.000000</td>\n",
       "      <td>1.000000</td>\n",
       "    </tr>\n",
       "  </tbody>\n",
       "</table>\n",
       "</div>"
      ]
     },
     "execution_count": 38,
     "metadata": {},
     "output_type": "execute_result"
    }
   ],
   "execution_count": 38
  },
  {
   "metadata": {},
   "cell_type": "markdown",
   "source": "# **Check columns name**",
   "id": "47273a38a19f1600"
  },
  {
   "metadata": {
    "ExecuteTime": {
     "end_time": "2024-10-10T07:37:31.623626Z",
     "start_time": "2024-10-10T07:37:31.620151Z"
    }
   },
   "cell_type": "code",
   "source": "dbt.columns",
   "id": "201c93106d5fd7f7",
   "outputs": [
    {
     "data": {
      "text/plain": [
       "Index(['Pregnancies', 'Glucose', 'BloodPressure', 'SkinThickness', 'Insulin',\n",
       "       'BMI', 'DiabetesPedigreeFunction', 'Age', 'Outcome'],\n",
       "      dtype='object')"
      ]
     },
     "execution_count": 39,
     "metadata": {},
     "output_type": "execute_result"
    }
   ],
   "execution_count": 39
  },
  {
   "metadata": {},
   "cell_type": "markdown",
   "source": "# **Check Null Column**",
   "id": "6ca21c61635cb02c"
  },
  {
   "metadata": {
    "ExecuteTime": {
     "end_time": "2024-10-10T07:37:31.737087Z",
     "start_time": "2024-10-10T07:37:31.732637Z"
    }
   },
   "cell_type": "code",
   "source": "dbt.isnull().sum()",
   "id": "559cb382501dd057",
   "outputs": [
    {
     "data": {
      "text/plain": [
       "Pregnancies                 0\n",
       "Glucose                     0\n",
       "BloodPressure               0\n",
       "SkinThickness               0\n",
       "Insulin                     0\n",
       "BMI                         0\n",
       "DiabetesPedigreeFunction    0\n",
       "Age                         0\n",
       "Outcome                     0\n",
       "dtype: int64"
      ]
     },
     "execution_count": 40,
     "metadata": {},
     "output_type": "execute_result"
    }
   ],
   "execution_count": 40
  },
  {
   "metadata": {},
   "cell_type": "markdown",
   "source": "# **Data Imputation**",
   "id": "d3cc6cff838fd0dc"
  },
  {
   "metadata": {
    "ExecuteTime": {
     "end_time": "2024-10-10T07:37:31.857868Z",
     "start_time": "2024-10-10T07:37:31.847631Z"
    }
   },
   "cell_type": "code",
   "source": [
    "# In this case, it doesn't make sense for some parameters to be 0\n",
    "#  for example the values for 'Glucose', 'BloodPlessure' or 'Insulin'.\n",
    "#  No matter how small the values are, every living human being must have \n",
    "#  these values\n",
    "\n",
    "# We will manipulate the value 0 by 'imputation' or replacing the value \n",
    "# with a synthetic value\n",
    "# In this case, we will use the mean value \n",
    "\n",
    "# Check the number of 0 values in each column\n",
    "feature_columns = ['Pregnancies', 'Glucose', 'BloodPressure', 'SkinThickness', 'Insulin', 'BMI', 'DiabetesPedigreeFunction', 'Age']\n",
    "for column in feature_columns:\n",
    "    print(\"============================================\")\n",
    "    print(f\"{column} ==> Missing zeros : {len(dbt.loc[dbt[column] == 0])}\")\n",
    "\n",
    "# Replace 0 with mean value\n",
    "from sklearn.impute import SimpleImputer\n",
    "fill_values = SimpleImputer(missing_values=0, strategy='mean', copy=False)\n",
    "dbt[feature_columns] = fill_values.fit_transform(dbt[feature_columns])"
   ],
   "id": "71aca8d1256db6eb",
   "outputs": [
    {
     "name": "stdout",
     "output_type": "stream",
     "text": [
      "============================================\n",
      "Pregnancies ==> Missing zeros : 111\n",
      "============================================\n",
      "Glucose ==> Missing zeros : 5\n",
      "============================================\n",
      "BloodPressure ==> Missing zeros : 35\n",
      "============================================\n",
      "SkinThickness ==> Missing zeros : 227\n",
      "============================================\n",
      "Insulin ==> Missing zeros : 374\n",
      "============================================\n",
      "BMI ==> Missing zeros : 11\n",
      "============================================\n",
      "DiabetesPedigreeFunction ==> Missing zeros : 0\n",
      "============================================\n",
      "Age ==> Missing zeros : 0\n"
     ]
    }
   ],
   "execution_count": 41
  },
  {
   "metadata": {},
   "cell_type": "markdown",
   "source": "# **Split Data**",
   "id": "c49e1bfd2df211d4"
  },
  {
   "metadata": {
    "ExecuteTime": {
     "end_time": "2024-10-10T07:37:32.013071Z",
     "start_time": "2024-10-10T07:37:31.999463Z"
    }
   },
   "cell_type": "code",
   "source": [
    "X = dbt[feature_columns]\n",
    "y = dbt['Outcome']\n",
    "\n",
    "X_train, X_test, y_train, y_test = train_test_split(X, y, test_size=0.3, random_state=42)\n",
    "\n",
    "X_train.head(10)"
   ],
   "id": "67ae96f77dc80f47",
   "outputs": [
    {
     "data": {
      "text/plain": [
       "     Pregnancies  Glucose  BloodPressure  SkinThickness     Insulin   BMI  \\\n",
       "334     1.000000     95.0      60.000000       18.00000   58.000000  23.9   \n",
       "139     5.000000    105.0      72.000000       29.00000  325.000000  36.9   \n",
       "485     4.494673    135.0      68.000000       42.00000  250.000000  42.3   \n",
       "547     4.000000    131.0      68.000000       21.00000  166.000000  33.1   \n",
       "18      1.000000    103.0      30.000000       38.00000   83.000000  43.3   \n",
       "593     2.000000     82.0      52.000000       22.00000  115.000000  28.5   \n",
       "140     3.000000    128.0      78.000000       29.15342  155.548223  21.1   \n",
       "326     1.000000    122.0      64.000000       32.00000  156.000000  35.1   \n",
       "266     4.494673    138.0      72.405184       29.15342  155.548223  36.3   \n",
       "626     4.494673    125.0      68.000000       29.15342  155.548223  24.7   \n",
       "\n",
       "     DiabetesPedigreeFunction   Age  \n",
       "334                     0.260  22.0  \n",
       "139                     0.159  28.0  \n",
       "485                     0.365  24.0  \n",
       "547                     0.160  28.0  \n",
       "18                      0.183  33.0  \n",
       "593                     1.699  25.0  \n",
       "140                     0.268  55.0  \n",
       "326                     0.692  30.0  \n",
       "266                     0.933  25.0  \n",
       "626                     0.206  21.0  "
      ],
      "text/html": [
       "<div>\n",
       "<style scoped>\n",
       "    .dataframe tbody tr th:only-of-type {\n",
       "        vertical-align: middle;\n",
       "    }\n",
       "\n",
       "    .dataframe tbody tr th {\n",
       "        vertical-align: top;\n",
       "    }\n",
       "\n",
       "    .dataframe thead th {\n",
       "        text-align: right;\n",
       "    }\n",
       "</style>\n",
       "<table border=\"1\" class=\"dataframe\">\n",
       "  <thead>\n",
       "    <tr style=\"text-align: right;\">\n",
       "      <th></th>\n",
       "      <th>Pregnancies</th>\n",
       "      <th>Glucose</th>\n",
       "      <th>BloodPressure</th>\n",
       "      <th>SkinThickness</th>\n",
       "      <th>Insulin</th>\n",
       "      <th>BMI</th>\n",
       "      <th>DiabetesPedigreeFunction</th>\n",
       "      <th>Age</th>\n",
       "    </tr>\n",
       "  </thead>\n",
       "  <tbody>\n",
       "    <tr>\n",
       "      <th>334</th>\n",
       "      <td>1.000000</td>\n",
       "      <td>95.0</td>\n",
       "      <td>60.000000</td>\n",
       "      <td>18.00000</td>\n",
       "      <td>58.000000</td>\n",
       "      <td>23.9</td>\n",
       "      <td>0.260</td>\n",
       "      <td>22.0</td>\n",
       "    </tr>\n",
       "    <tr>\n",
       "      <th>139</th>\n",
       "      <td>5.000000</td>\n",
       "      <td>105.0</td>\n",
       "      <td>72.000000</td>\n",
       "      <td>29.00000</td>\n",
       "      <td>325.000000</td>\n",
       "      <td>36.9</td>\n",
       "      <td>0.159</td>\n",
       "      <td>28.0</td>\n",
       "    </tr>\n",
       "    <tr>\n",
       "      <th>485</th>\n",
       "      <td>4.494673</td>\n",
       "      <td>135.0</td>\n",
       "      <td>68.000000</td>\n",
       "      <td>42.00000</td>\n",
       "      <td>250.000000</td>\n",
       "      <td>42.3</td>\n",
       "      <td>0.365</td>\n",
       "      <td>24.0</td>\n",
       "    </tr>\n",
       "    <tr>\n",
       "      <th>547</th>\n",
       "      <td>4.000000</td>\n",
       "      <td>131.0</td>\n",
       "      <td>68.000000</td>\n",
       "      <td>21.00000</td>\n",
       "      <td>166.000000</td>\n",
       "      <td>33.1</td>\n",
       "      <td>0.160</td>\n",
       "      <td>28.0</td>\n",
       "    </tr>\n",
       "    <tr>\n",
       "      <th>18</th>\n",
       "      <td>1.000000</td>\n",
       "      <td>103.0</td>\n",
       "      <td>30.000000</td>\n",
       "      <td>38.00000</td>\n",
       "      <td>83.000000</td>\n",
       "      <td>43.3</td>\n",
       "      <td>0.183</td>\n",
       "      <td>33.0</td>\n",
       "    </tr>\n",
       "    <tr>\n",
       "      <th>593</th>\n",
       "      <td>2.000000</td>\n",
       "      <td>82.0</td>\n",
       "      <td>52.000000</td>\n",
       "      <td>22.00000</td>\n",
       "      <td>115.000000</td>\n",
       "      <td>28.5</td>\n",
       "      <td>1.699</td>\n",
       "      <td>25.0</td>\n",
       "    </tr>\n",
       "    <tr>\n",
       "      <th>140</th>\n",
       "      <td>3.000000</td>\n",
       "      <td>128.0</td>\n",
       "      <td>78.000000</td>\n",
       "      <td>29.15342</td>\n",
       "      <td>155.548223</td>\n",
       "      <td>21.1</td>\n",
       "      <td>0.268</td>\n",
       "      <td>55.0</td>\n",
       "    </tr>\n",
       "    <tr>\n",
       "      <th>326</th>\n",
       "      <td>1.000000</td>\n",
       "      <td>122.0</td>\n",
       "      <td>64.000000</td>\n",
       "      <td>32.00000</td>\n",
       "      <td>156.000000</td>\n",
       "      <td>35.1</td>\n",
       "      <td>0.692</td>\n",
       "      <td>30.0</td>\n",
       "    </tr>\n",
       "    <tr>\n",
       "      <th>266</th>\n",
       "      <td>4.494673</td>\n",
       "      <td>138.0</td>\n",
       "      <td>72.405184</td>\n",
       "      <td>29.15342</td>\n",
       "      <td>155.548223</td>\n",
       "      <td>36.3</td>\n",
       "      <td>0.933</td>\n",
       "      <td>25.0</td>\n",
       "    </tr>\n",
       "    <tr>\n",
       "      <th>626</th>\n",
       "      <td>4.494673</td>\n",
       "      <td>125.0</td>\n",
       "      <td>68.000000</td>\n",
       "      <td>29.15342</td>\n",
       "      <td>155.548223</td>\n",
       "      <td>24.7</td>\n",
       "      <td>0.206</td>\n",
       "      <td>21.0</td>\n",
       "    </tr>\n",
       "  </tbody>\n",
       "</table>\n",
       "</div>"
      ]
     },
     "execution_count": 42,
     "metadata": {},
     "output_type": "execute_result"
    }
   ],
   "execution_count": 42
  },
  {
   "metadata": {},
   "cell_type": "markdown",
   "source": "# **Feature Standardization**",
   "id": "4f552dde650a1094"
  },
  {
   "metadata": {
    "ExecuteTime": {
     "end_time": "2024-10-10T07:37:32.150587Z",
     "start_time": "2024-10-10T07:37:32.143828Z"
    }
   },
   "cell_type": "code",
   "source": [
    "# So we need to standardize \n",
    "from sklearn.preprocessing import StandardScaler\n",
    "\n",
    "sc = StandardScaler()\n",
    "\n",
    "# Standardization in X_train dan X_test data\n",
    "X_train_std = sc.fit_transform(X_train)\n",
    "X_test_std = sc.transform(X_test)"
   ],
   "id": "bc1db4237e9bebad",
   "outputs": [],
   "execution_count": 43
  },
  {
   "metadata": {},
   "cell_type": "markdown",
   "source": "# **Train Model**",
   "id": "be7b725af8e5ef64"
  },
  {
   "metadata": {},
   "cell_type": "markdown",
   "source": "## **Function to Check Mean accuracy and STD**",
   "id": "9a2e941a500e5143"
  },
  {
   "metadata": {
    "ExecuteTime": {
     "end_time": "2024-10-10T07:37:32.224543Z",
     "start_time": "2024-10-10T07:37:32.219665Z"
    }
   },
   "cell_type": "code",
   "source": [
    "from sklearn.model_selection import cross_val_score\n",
    "def check_model(model, X_train, y_train):\n",
    "    scores = cross_val_score(model, X_train, y_train, cv=5)\n",
    "\n",
    "    # Calculate mean and standard deviation\n",
    "    mean_score = np.mean(scores)\n",
    "    std_dev = np.std(scores)\n",
    "    \n",
    "    print(f'Mean Cross-Validation Score: {mean_score:.4f}')\n",
    "    print(f'Standard Deviation: {std_dev:.4f}')\n",
    "    \n",
    "    # Interpretation\n",
    "    print('Interpretation:')\n",
    "    if std_dev > 0.1:\n",
    "        print(\"The model's performance is inconsistent across folds.\")\n",
    "    elif mean_score < 0.7:\n",
    "        print(\"The model is performing poorly.\")\n",
    "    else:\n",
    "        print(\"The model appears to generalize well.\")"
   ],
   "id": "2d1292636a17143f",
   "outputs": [],
   "execution_count": 44
  },
  {
   "metadata": {},
   "cell_type": "markdown",
   "source": "## **Logistic Regression**",
   "id": "1447bf61da971c0f"
  },
  {
   "metadata": {},
   "cell_type": "markdown",
   "source": "### **Hyperparameter Tuning**",
   "id": "af2f9b0718c71dff"
  },
  {
   "metadata": {
    "ExecuteTime": {
     "end_time": "2024-10-10T07:37:35.018532Z",
     "start_time": "2024-10-10T07:37:32.275493Z"
    }
   },
   "cell_type": "code",
   "source": [
    "# create default logistic regression object\n",
    "logreg = LogisticRegression()\n",
    "\n",
    "# define hyperparameter\n",
    "param_logreg = {\n",
    "    'penalty': ['l2', 'l1'],\n",
    "    'C': [0.001, 0.01, 0.1, 1, 10, 100, 1000],\n",
    "    'solver': ['liblinear', 'saga'],\n",
    "    'max_iter': [50, 100, 200, 400, 800]\n",
    "}\n",
    "\n",
    "# create GridSearchCV object\n",
    "logreg_tuned = GridSearchCV(logreg, param_logreg, cv=5, scoring='accuracy', n_jobs=-1, verbose=1)\n",
    "\n",
    "# fit data that has been standardized\n",
    "logreg_tuned.fit(X_train_std, y_train)\n",
    "\n",
    "# print best parameter after tuning\n",
    "print(f'Best Hyperparameter: {logreg_tuned.best_params_}')\n",
    "\n",
    "# print best score after tuning\n",
    "print(f'Best Accuracy Score: {logreg_tuned.best_score_}')"
   ],
   "id": "b3ea2a6fc8e5a8d3",
   "outputs": [
    {
     "name": "stdout",
     "output_type": "stream",
     "text": [
      "Fitting 5 folds for each of 140 candidates, totalling 700 fits\n",
      "Best Hyperparameter: {'C': 1, 'max_iter': 50, 'penalty': 'l2', 'solver': 'liblinear'}\n",
      "Best Accuracy Score: 0.7783142956040152\n"
     ]
    }
   ],
   "execution_count": 45
  },
  {
   "metadata": {},
   "cell_type": "markdown",
   "source": "### **Model Evaluation**",
   "id": "5db64abc1e0125f5"
  },
  {
   "metadata": {
    "ExecuteTime": {
     "end_time": "2024-10-10T07:37:35.049430Z",
     "start_time": "2024-10-10T07:37:35.031743Z"
    }
   },
   "cell_type": "code",
   "source": [
    "# set best estimator\n",
    "logreg = logreg_tuned.best_estimator_\n",
    "\n",
    "# fit data \n",
    "logreg.fit(X_train_std, y_train)\n",
    "\n",
    "# predict train set\n",
    "y_pred_train = logreg.predict(X_train_std)\n",
    "\n",
    "# predict test set\n",
    "y_pred_test = logreg.predict(X_test_std)\n",
    "\n",
    "# calculate train and test data accuracy score\n",
    "acc_train = accuracy_score(y_train, y_pred_train)\n",
    "acc_test = accuracy_score(y_test, y_pred_test)\n",
    "\n",
    "check_model(logreg, X_train_std, y_train)\n",
    "\n",
    "# print train and test data accuracy score\n",
    "print(f\"\\nAccuracy on train set: {acc_train * 100:.2f}%\")\n",
    "print(f\"Accuracy on test set: {acc_test * 100:.2f}%\")"
   ],
   "id": "e47b4d5801a203c6",
   "outputs": [
    {
     "name": "stdout",
     "output_type": "stream",
     "text": [
      "Mean Cross-Validation Score: 0.7783\n",
      "Standard Deviation: 0.0329\n",
      "Interpretation:\n",
      "The model appears to generalize well.\n",
      "\n",
      "Accuracy on train set: 78.77%\n",
      "Accuracy on test set: 73.59%\n"
     ]
    }
   ],
   "execution_count": 46
  },
  {
   "metadata": {},
   "cell_type": "markdown",
   "source": "## **SVM Polynomial**",
   "id": "58adfe57ac0beebc"
  },
  {
   "metadata": {},
   "cell_type": "markdown",
   "source": "### **Hyperparameter Tuning**",
   "id": "8f44cd4ba92f7c92"
  },
  {
   "metadata": {
    "ExecuteTime": {
     "end_time": "2024-10-10T07:37:39.015550Z",
     "start_time": "2024-10-10T07:37:35.092958Z"
    }
   },
   "cell_type": "code",
   "source": [
    "# create SVM object with polynomial kernel\n",
    "svm_poly = SVC(kernel='poly')\n",
    "\n",
    "# define hyperparameter\n",
    "param_svm_poly = {\n",
    "    'degree': [2, 3, 4, 5],\n",
    "    'C': [0.001, 0.01, 0.1, 1, 10, 100],\n",
    "    'gamma': ['scale', 'auto'],\n",
    "    'coef0': [0.0, 0.1, 0.5, 1.0]\n",
    "}\n",
    "\n",
    "# create GridSearchCV object\n",
    "svm_poly_tuned = GridSearchCV(svm_poly, param_svm_poly, cv=5, scoring='accuracy', n_jobs=-1, verbose=1)\n",
    "\n",
    "# fit data that has been standardized\n",
    "svm_poly_tuned.fit(X_train_std, y_train)\n",
    "\n",
    "# print best parameter after tuning\n",
    "print(f'Best Hyperparameter: {svm_poly_tuned.best_params_}')\n",
    "\n",
    "# print best score after tuning\n",
    "print(f'Best Accuracy Score: {svm_poly_tuned.best_score_}')"
   ],
   "id": "cc060f696b0611ab",
   "outputs": [
    {
     "name": "stdout",
     "output_type": "stream",
     "text": [
      "Fitting 5 folds for each of 192 candidates, totalling 960 fits\n",
      "Best Hyperparameter: {'C': 0.1, 'coef0': 1.0, 'degree': 2, 'gamma': 'scale'}\n",
      "Best Accuracy Score: 0.7783662166839737\n"
     ]
    }
   ],
   "execution_count": 47
  },
  {
   "metadata": {},
   "cell_type": "markdown",
   "source": "### **Model Evaluation**",
   "id": "d28f098a28a5640e"
  },
  {
   "metadata": {
    "ExecuteTime": {
     "end_time": "2024-10-10T07:37:39.092803Z",
     "start_time": "2024-10-10T07:37:39.049523Z"
    }
   },
   "cell_type": "code",
   "source": [
    "# set best estimator\n",
    "svm_poly = svm_poly_tuned.best_estimator_\n",
    "\n",
    "# fit data \n",
    "svm_poly.fit(X_train_std, y_train)\n",
    "\n",
    "# predict train set\n",
    "y_pred_train = svm_poly.predict(X_train_std)\n",
    "\n",
    "# predict test set\n",
    "y_pred_test = svm_poly.predict(X_test_std)\n",
    "\n",
    "# calculate train and test data accuracy score\n",
    "acc_train = accuracy_score(y_train, y_pred_train)\n",
    "acc_test = accuracy_score(y_test, y_pred_test)\n",
    "\n",
    "check_model(svm_poly, X_train_std, y_train)\n",
    "\n",
    "# print train and test data accuracy score\n",
    "print(f\"\\nAccuracy on train set: {acc_train * 100:.2f}%\")\n",
    "print(f\"Accuracy on test set: {acc_test * 100:.2f}%\")"
   ],
   "id": "c82a81f1bf704837",
   "outputs": [
    {
     "name": "stdout",
     "output_type": "stream",
     "text": [
      "Mean Cross-Validation Score: 0.7784\n",
      "Standard Deviation: 0.0129\n",
      "Interpretation:\n",
      "The model appears to generalize well.\n",
      "\n",
      "Accuracy on train set: 79.33%\n",
      "Accuracy on test set: 75.76%\n"
     ]
    }
   ],
   "execution_count": 48
  },
  {
   "metadata": {},
   "cell_type": "markdown",
   "source": "## **Decision Tree**",
   "id": "2fc222ea38916354"
  },
  {
   "metadata": {},
   "cell_type": "markdown",
   "source": "### **Hyperparameter Tuning**",
   "id": "66e5c413f309d6a2"
  },
  {
   "metadata": {
    "ExecuteTime": {
     "end_time": "2024-10-10T07:37:40.044012Z",
     "start_time": "2024-10-10T07:37:39.126201Z"
    }
   },
   "cell_type": "code",
   "source": [
    "# define default DecisionTreeClassifier model\n",
    "dt = DecisionTreeClassifier()\n",
    "\n",
    "# define the grid of hyperparameters\n",
    "param_grid = {\n",
    "    'criterion': ['gini', 'entropy'],\n",
    "    'max_depth': [5, 10, 15, 20, 25, None],\n",
    "    'min_samples_split': [2, 5, 10, 15, 20],\n",
    "    'min_samples_leaf': [1, 2, 5, 10, 15]\n",
    "}\n",
    "\n",
    "# perform GridSearch\n",
    "dt_grid = GridSearchCV(estimator=dt, param_grid=param_grid, cv=5, scoring='accuracy', n_jobs=-1, verbose=1)\n",
    "\n",
    "# fit the model\n",
    "dt_grid.fit(X_train_std, y_train)\n",
    "\n",
    "# print best hyperparameters\n",
    "print(f'Best hyperparameters: {dt_grid.best_params_}')\n",
    "\n",
    "# print best model accuracy\n",
    "print(f'\\nBest model accuracy: {dt_grid.best_score_}')"
   ],
   "id": "196ef42ca4e7dc9c",
   "outputs": [
    {
     "name": "stdout",
     "output_type": "stream",
     "text": [
      "Fitting 5 folds for each of 300 candidates, totalling 1500 fits\n",
      "Best hyperparameters: {'criterion': 'entropy', 'max_depth': 5, 'min_samples_leaf': 15, 'min_samples_split': 2}\n",
      "\n",
      "Best model accuracy: 0.7597784700588439\n"
     ]
    }
   ],
   "execution_count": 49
  },
  {
   "metadata": {},
   "cell_type": "markdown",
   "source": "### **Model Evaluation**",
   "id": "645f28868184116c"
  },
  {
   "metadata": {
    "ExecuteTime": {
     "end_time": "2024-10-10T07:37:40.099001Z",
     "start_time": "2024-10-10T07:37:40.078640Z"
    }
   },
   "cell_type": "code",
   "source": [
    "# set best estimator\n",
    "dt = dt_grid.best_estimator_\n",
    "\n",
    "# fit data\n",
    "dt.fit(X_train_std, y_train)\n",
    "\n",
    "# predict train set\n",
    "y_pred_train = dt.predict(X_train_std)\n",
    "\n",
    "# predict test set\n",
    "y_pred_test = dt.predict(X_test_std)\n",
    "\n",
    "# calculate train and test data accuracy score\n",
    "acc_train = accuracy_score(y_train, y_pred_train)\n",
    "acc_test = accuracy_score(y_test, y_pred_test)\n",
    "\n",
    "check_model(dt, X_train_std, y_train)\n",
    "\n",
    "# print train and test data accuracy score\n",
    "print(f\"\\nAccuracy on train set: {acc_train * 100:.2f}%\")\n",
    "print(f\"Accuracy on test set: {acc_test * 100:.2f}%\")"
   ],
   "id": "68e061b73bd645e7",
   "outputs": [
    {
     "name": "stdout",
     "output_type": "stream",
     "text": [
      "Mean Cross-Validation Score: 0.7598\n",
      "Standard Deviation: 0.0246\n",
      "Interpretation:\n",
      "The model appears to generalize well.\n",
      "\n",
      "Accuracy on train set: 80.26%\n",
      "Accuracy on test set: 77.06%\n"
     ]
    }
   ],
   "execution_count": 50
  },
  {
   "metadata": {},
   "cell_type": "markdown",
   "source": "# **Voting Classifier**",
   "id": "a10f6fd1d276f8e4"
  },
  {
   "metadata": {
    "ExecuteTime": {
     "end_time": "2024-10-10T07:38:47.684887Z",
     "start_time": "2024-10-10T07:38:47.540118Z"
    }
   },
   "cell_type": "code",
   "source": [
    "# define algorithm that used in voting classifier\n",
    "clf1 = logreg\n",
    "clf2 = svm_poly\n",
    "clf3 = dt\n",
    "\n",
    "# create hard voting classifier object\n",
    "voting_clf = VotingClassifier(estimators=[('Log-Reg', clf1), ('SVM-POLY', clf2), ('Dec-Tree', clf3)], voting='hard')\n",
    "\n",
    "# fit data that has been standardized\n",
    "voting_clf.fit(X_train_std, y_train)\n",
    "\n",
    "# predict train set\n",
    "y_pred_train = voting_clf.predict(X_train_std)\n",
    "\n",
    "# predict test set\n",
    "y_pred_voting = voting_clf.predict(X_test_std)\n",
    "\n",
    "# calculate test and train data accuracy score\n",
    "acc_train = accuracy_score(y_train, y_pred_train)\n",
    "acc_voting = accuracy_score(y_test, y_pred_voting)\n",
    "\n",
    "check_model(voting_clf, X_train_std, y_train)\n",
    "\n",
    "# print accuracy score\n",
    "print('\\nVoting Hard')\n",
    "print(f\"Accuracy on train set: {acc_train * 100:.2f}%\")\n",
    "print(f\"Accuracy on test set: {acc_voting * 100:.2f}%\")"
   ],
   "id": "aca5abd5e512af12",
   "outputs": [
    {
     "name": "stdout",
     "output_type": "stream",
     "text": [
      "Mean Cross-Validation Score: 0.7783\n",
      "Standard Deviation: 0.0156\n",
      "Interpretation:\n",
      "The model appears to generalize well.\n",
      "\n",
      "Voting Hard\n",
      "Accuracy on train set: 79.14%\n",
      "Accuracy on test set: 75.76%\n"
     ]
    }
   ],
   "execution_count": 53
  }
 ],
 "metadata": {
  "kernelspec": {
   "display_name": "Python 3",
   "language": "python",
   "name": "python3"
  },
  "language_info": {
   "codemirror_mode": {
    "name": "ipython",
    "version": 2
   },
   "file_extension": ".py",
   "mimetype": "text/x-python",
   "name": "python",
   "nbconvert_exporter": "python",
   "pygments_lexer": "ipython2",
   "version": "2.7.6"
  }
 },
 "nbformat": 4,
 "nbformat_minor": 5
}
