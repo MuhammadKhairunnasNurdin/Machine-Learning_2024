{
 "cells": [
  {
   "metadata": {},
   "cell_type": "markdown",
   "source": [
    "# **Case**:\n",
    "In this case we will use one of the stacking methods, namely voting, to classify diabetes patients according to several characteristics.  Patients will be classified into patients suffering from diabetes (1) and not suffering from diabetes (0).  \n",
    "\n",
    "First of all, we will use several classification algorithms separately, namely Naive Bayes, Linear SVM, and SVM RBF.  After that, we will combine the performance of the 3 algorithms using the ensemble voting method. "
   ],
   "id": "4429bc1650adce4a"
  },
  {
   "metadata": {},
   "cell_type": "markdown",
   "source": "# **Import Libraries and Load Data**",
   "id": "9a652349375714cd"
  },
  {
   "metadata": {
    "ExecuteTime": {
     "end_time": "2024-10-08T16:06:16.293642Z",
     "start_time": "2024-10-08T16:06:15.207155Z"
    }
   },
   "cell_type": "code",
   "source": [
    "import numpy as np\n",
    "import pandas as pd\n",
    "from sklearn.naive_bayes import GaussianNB\n",
    "from sklearn.svm import SVC\n",
    "from sklearn.ensemble import VotingClassifier\n",
    "from sklearn.model_selection import train_test_split\n",
    "from sklearn.metrics import accuracy_score, classification_report\n",
    "\n",
    "# Load the data\n",
    "dbt = pd.read_csv('../Data/diabetes.csv')\n",
    "# show the first 5 rows of the data\n",
    "dbt.head()"
   ],
   "id": "7658c2e70b512f0d",
   "outputs": [
    {
     "data": {
      "text/plain": [
       "   Pregnancies  Glucose  BloodPressure  SkinThickness  Insulin   BMI  \\\n",
       "0            6      148             72             35        0  33.6   \n",
       "1            1       85             66             29        0  26.6   \n",
       "2            8      183             64              0        0  23.3   \n",
       "3            1       89             66             23       94  28.1   \n",
       "4            0      137             40             35      168  43.1   \n",
       "\n",
       "   DiabetesPedigreeFunction  Age  Outcome  \n",
       "0                     0.627   50        1  \n",
       "1                     0.351   31        0  \n",
       "2                     0.672   32        1  \n",
       "3                     0.167   21        0  \n",
       "4                     2.288   33        1  "
      ],
      "text/html": [
       "<div>\n",
       "<style scoped>\n",
       "    .dataframe tbody tr th:only-of-type {\n",
       "        vertical-align: middle;\n",
       "    }\n",
       "\n",
       "    .dataframe tbody tr th {\n",
       "        vertical-align: top;\n",
       "    }\n",
       "\n",
       "    .dataframe thead th {\n",
       "        text-align: right;\n",
       "    }\n",
       "</style>\n",
       "<table border=\"1\" class=\"dataframe\">\n",
       "  <thead>\n",
       "    <tr style=\"text-align: right;\">\n",
       "      <th></th>\n",
       "      <th>Pregnancies</th>\n",
       "      <th>Glucose</th>\n",
       "      <th>BloodPressure</th>\n",
       "      <th>SkinThickness</th>\n",
       "      <th>Insulin</th>\n",
       "      <th>BMI</th>\n",
       "      <th>DiabetesPedigreeFunction</th>\n",
       "      <th>Age</th>\n",
       "      <th>Outcome</th>\n",
       "    </tr>\n",
       "  </thead>\n",
       "  <tbody>\n",
       "    <tr>\n",
       "      <th>0</th>\n",
       "      <td>6</td>\n",
       "      <td>148</td>\n",
       "      <td>72</td>\n",
       "      <td>35</td>\n",
       "      <td>0</td>\n",
       "      <td>33.6</td>\n",
       "      <td>0.627</td>\n",
       "      <td>50</td>\n",
       "      <td>1</td>\n",
       "    </tr>\n",
       "    <tr>\n",
       "      <th>1</th>\n",
       "      <td>1</td>\n",
       "      <td>85</td>\n",
       "      <td>66</td>\n",
       "      <td>29</td>\n",
       "      <td>0</td>\n",
       "      <td>26.6</td>\n",
       "      <td>0.351</td>\n",
       "      <td>31</td>\n",
       "      <td>0</td>\n",
       "    </tr>\n",
       "    <tr>\n",
       "      <th>2</th>\n",
       "      <td>8</td>\n",
       "      <td>183</td>\n",
       "      <td>64</td>\n",
       "      <td>0</td>\n",
       "      <td>0</td>\n",
       "      <td>23.3</td>\n",
       "      <td>0.672</td>\n",
       "      <td>32</td>\n",
       "      <td>1</td>\n",
       "    </tr>\n",
       "    <tr>\n",
       "      <th>3</th>\n",
       "      <td>1</td>\n",
       "      <td>89</td>\n",
       "      <td>66</td>\n",
       "      <td>23</td>\n",
       "      <td>94</td>\n",
       "      <td>28.1</td>\n",
       "      <td>0.167</td>\n",
       "      <td>21</td>\n",
       "      <td>0</td>\n",
       "    </tr>\n",
       "    <tr>\n",
       "      <th>4</th>\n",
       "      <td>0</td>\n",
       "      <td>137</td>\n",
       "      <td>40</td>\n",
       "      <td>35</td>\n",
       "      <td>168</td>\n",
       "      <td>43.1</td>\n",
       "      <td>2.288</td>\n",
       "      <td>33</td>\n",
       "      <td>1</td>\n",
       "    </tr>\n",
       "  </tbody>\n",
       "</table>\n",
       "</div>"
      ]
     },
     "execution_count": 1,
     "metadata": {},
     "output_type": "execute_result"
    }
   ],
   "execution_count": 1
  },
  {
   "metadata": {},
   "cell_type": "markdown",
   "source": "# **Check columns name**",
   "id": "47273a38a19f1600"
  },
  {
   "metadata": {
    "ExecuteTime": {
     "end_time": "2024-10-08T16:06:16.406269Z",
     "start_time": "2024-10-08T16:06:16.401428Z"
    }
   },
   "cell_type": "code",
   "source": "dbt.columns",
   "id": "201c93106d5fd7f7",
   "outputs": [
    {
     "data": {
      "text/plain": [
       "Index(['Pregnancies', 'Glucose', 'BloodPressure', 'SkinThickness', 'Insulin',\n",
       "       'BMI', 'DiabetesPedigreeFunction', 'Age', 'Outcome'],\n",
       "      dtype='object')"
      ]
     },
     "execution_count": 2,
     "metadata": {},
     "output_type": "execute_result"
    }
   ],
   "execution_count": 2
  },
  {
   "metadata": {},
   "cell_type": "markdown",
   "source": "# **Check Null Column**",
   "id": "6ca21c61635cb02c"
  },
  {
   "metadata": {
    "ExecuteTime": {
     "end_time": "2024-10-08T16:06:16.446702Z",
     "start_time": "2024-10-08T16:06:16.439761Z"
    }
   },
   "cell_type": "code",
   "source": "dbt.isnull().sum()",
   "id": "559cb382501dd057",
   "outputs": [
    {
     "data": {
      "text/plain": [
       "Pregnancies                 0\n",
       "Glucose                     0\n",
       "BloodPressure               0\n",
       "SkinThickness               0\n",
       "Insulin                     0\n",
       "BMI                         0\n",
       "DiabetesPedigreeFunction    0\n",
       "Age                         0\n",
       "Outcome                     0\n",
       "dtype: int64"
      ]
     },
     "execution_count": 3,
     "metadata": {},
     "output_type": "execute_result"
    }
   ],
   "execution_count": 3
  },
  {
   "metadata": {},
   "cell_type": "markdown",
   "source": "# **Data Imputation**",
   "id": "d3cc6cff838fd0dc"
  },
  {
   "metadata": {
    "ExecuteTime": {
     "end_time": "2024-10-08T16:06:16.612400Z",
     "start_time": "2024-10-08T16:06:16.592140Z"
    }
   },
   "cell_type": "code",
   "source": [
    "# In this case, it doesn't make sense for some parameters to be 0\n",
    "#  for example the values for 'Glucose', 'BloodPlessure' or 'Insulin'.\n",
    "#  No matter how small the values are, every living human being must have \n",
    "#  these values\n",
    "\n",
    "# We will manipulate the value 0 by 'imputation' or replacing the value \n",
    "# with a synthetic value\n",
    "# In this case, we will use the mean value \n",
    "\n",
    "# Check the number of 0 values in each column\n",
    "feature_columns = ['Pregnancies', 'Glucose', 'BloodPressure', 'SkinThickness', 'Insulin', 'BMI', 'DiabetesPedigreeFunction', 'Age']\n",
    "for column in feature_columns:\n",
    "    print(\"============================================\")\n",
    "    print(f\"{column} ==> Missing zeros : {len(dbt.loc[dbt[column] == 0])}\")\n",
    "\n",
    "# Replace 0 with mean value\n",
    "from sklearn.impute import SimpleImputer\n",
    "fill_values = SimpleImputer(missing_values=0, strategy='mean', copy=False)\n",
    "dbt[feature_columns] = fill_values.fit_transform(dbt[feature_columns])"
   ],
   "id": "71aca8d1256db6eb",
   "outputs": [
    {
     "name": "stdout",
     "output_type": "stream",
     "text": [
      "============================================\n",
      "Pregnancies ==> Missing zeros : 111\n",
      "============================================\n",
      "Glucose ==> Missing zeros : 5\n",
      "============================================\n",
      "BloodPressure ==> Missing zeros : 35\n",
      "============================================\n",
      "SkinThickness ==> Missing zeros : 227\n",
      "============================================\n",
      "Insulin ==> Missing zeros : 374\n",
      "============================================\n",
      "BMI ==> Missing zeros : 11\n",
      "============================================\n",
      "DiabetesPedigreeFunction ==> Missing zeros : 0\n",
      "============================================\n",
      "Age ==> Missing zeros : 0\n"
     ]
    }
   ],
   "execution_count": 4
  },
  {
   "metadata": {},
   "cell_type": "markdown",
   "source": "# **Split Data**",
   "id": "c49e1bfd2df211d4"
  },
  {
   "metadata": {
    "ExecuteTime": {
     "end_time": "2024-10-08T16:06:16.732985Z",
     "start_time": "2024-10-08T16:06:16.724750Z"
    }
   },
   "cell_type": "code",
   "source": [
    "X = dbt[feature_columns]\n",
    "y = dbt['Outcome']\n",
    "\n",
    "X_train, X_test, y_train, y_test = train_test_split(X, y, test_size=0.3, random_state=42)"
   ],
   "id": "67ae96f77dc80f47",
   "outputs": [],
   "execution_count": 5
  },
  {
   "metadata": {},
   "cell_type": "markdown",
   "source": "# **Feature Standardization**",
   "id": "4f552dde650a1094"
  },
  {
   "metadata": {
    "ExecuteTime": {
     "end_time": "2024-10-08T16:06:16.932948Z",
     "start_time": "2024-10-08T16:06:16.921726Z"
    }
   },
   "cell_type": "code",
   "source": [
    "# Because the Gaussian NB assumption is that the data is normally \n",
    "# distributed,\n",
    "# So we need to standardize \n",
    "from sklearn.preprocessing import StandardScaler\n",
    "\n",
    "sc = StandardScaler()\n",
    "\n",
    "# Standardization in X_train dan X_test data\n",
    "X_train_std = sc.fit_transform(X_train)\n",
    "X_test_std = sc.transform(X_test)"
   ],
   "id": "bc1db4237e9bebad",
   "outputs": [],
   "execution_count": 6
  },
  {
   "metadata": {},
   "cell_type": "markdown",
   "source": "# **Train Model**",
   "id": "be7b725af8e5ef64"
  },
  {
   "metadata": {},
   "cell_type": "markdown",
   "source": "## **GaussianNB**",
   "id": "1447bf61da971c0f"
  },
  {
   "metadata": {
    "ExecuteTime": {
     "end_time": "2024-10-08T16:06:16.985576Z",
     "start_time": "2024-10-08T16:06:16.976987Z"
    }
   },
   "cell_type": "code",
   "source": [
    "# create GaussianNB object\n",
    "gnb_std = GaussianNB()\n",
    "\n",
    "# fit data that has been standardized\n",
    "gnb_std.fit(X_train_std, y_train)\n",
    "\n",
    "# predict test set\n",
    "y_pred_gnb = gnb_std.predict(X_test_std)\n",
    "\n",
    "# calculate test data accuracy score\n",
    "acc_gnb = accuracy_score(y_test, y_pred_gnb)\n",
    "\n",
    "# print accuracy score\n",
    "print(f'Test set accuracy {acc_gnb}')\n",
    "print('Round Test set accuracy: {:.2f}'.format(acc_gnb))"
   ],
   "id": "b3ea2a6fc8e5a8d3",
   "outputs": [
    {
     "name": "stdout",
     "output_type": "stream",
     "text": [
      "Test set accuracy 0.7359307359307359\n",
      "Round Test set accuracy: 0.74\n"
     ]
    }
   ],
   "execution_count": 7
  },
  {
   "metadata": {},
   "cell_type": "markdown",
   "source": "## **SVM Linear**",
   "id": "c86f6568d22f8c62"
  },
  {
   "metadata": {
    "ExecuteTime": {
     "end_time": "2024-10-08T16:06:17.137879Z",
     "start_time": "2024-10-08T16:06:17.105318Z"
    }
   },
   "cell_type": "code",
   "source": [
    "# create SVM object with linear kernel without hyperparameter tuning\n",
    "svm_lin = SVC(kernel='linear')\n",
    "\n",
    "# fit data that has been standardized\n",
    "svm_lin.fit(X_train_std, y_train)\n",
    "\n",
    "# predict test set\n",
    "y_pred_svm_lin = svm_lin.predict(X_test_std)\n",
    "\n",
    "# calculate test data accuracy score\n",
    "acc_svm_lin = accuracy_score(y_test, y_pred_svm_lin)\n",
    "\n",
    "# print accuracy score\n",
    "print(f'Test set accuracy {acc_svm_lin}')\n",
    "print('Round Test set accuracy: {:.2f}'.format(acc_svm_lin))"
   ],
   "id": "c702aa0b90deb92b",
   "outputs": [
    {
     "name": "stdout",
     "output_type": "stream",
     "text": [
      "Test set accuracy 0.7402597402597403\n",
      "Round Test set accuracy: 0.74\n"
     ]
    }
   ],
   "execution_count": 8
  },
  {
   "metadata": {},
   "cell_type": "markdown",
   "source": "## **SVM RBF**",
   "id": "58adfe57ac0beebc"
  },
  {
   "metadata": {
    "ExecuteTime": {
     "end_time": "2024-10-08T16:06:17.231461Z",
     "start_time": "2024-10-08T16:06:17.193169Z"
    }
   },
   "cell_type": "code",
   "source": [
    "# create SVM object with rbf kernel without hyperparameter tuning\n",
    "svm_rbf = SVC(kernel='rbf')\n",
    "\n",
    "# fit data that has been standardized\n",
    "svm_rbf.fit(X_train_std, y_train)\n",
    "\n",
    "# predict test set\n",
    "y_pred_svm_rbf = svm_rbf.predict(X_test_std)\n",
    "\n",
    "# calculate test data accuracy score\n",
    "acc_svm_rbf = accuracy_score(y_test, y_pred_svm_rbf)\n",
    "\n",
    "# print accuracy score\n",
    "print(f'Test set accuracy {acc_svm_rbf}')\n",
    "print('Round Test set accuracy: {:.2f}'.format(acc_svm_rbf))"
   ],
   "id": "2e852100f7059b34",
   "outputs": [
    {
     "name": "stdout",
     "output_type": "stream",
     "text": [
      "Test set accuracy 0.7229437229437229\n",
      "Round Test set accuracy: 0.72\n"
     ]
    }
   ],
   "execution_count": 9
  },
  {
   "metadata": {},
   "cell_type": "markdown",
   "source": "# **Voting Classifier**",
   "id": "a10f6fd1d276f8e4"
  },
  {
   "metadata": {
    "ExecuteTime": {
     "end_time": "2024-10-08T16:06:17.351576Z",
     "start_time": "2024-10-08T16:06:17.282455Z"
    }
   },
   "cell_type": "code",
   "source": [
    "# define algorithm that used in voting classifier\n",
    "clf1 = GaussianNB()\n",
    "clf2 = SVC(kernel='linear')\n",
    "clf3 = SVC(kernel='rbf')\n",
    "\n",
    "# create hard voting classifier object\n",
    "voting_clf = VotingClassifier(estimators=[('GaussianNB', clf1), ('SVM-LIN', clf2), ('SVM-RBF', clf3)], voting='hard')\n",
    "\n",
    "# fit data that has been standardized\n",
    "voting_clf.fit(X_train_std, y_train)\n",
    "\n",
    "# predict test set\n",
    "y_pred_voting = voting_clf.predict(X_test_std)\n",
    "\n",
    "# calculate test data accuracy score\n",
    "acc_voting = accuracy_score(y_test, y_pred_voting)\n",
    "\n",
    "# print accuracy score\n",
    "print('Voting Hard')\n",
    "print(f'Test set accuracy {acc_voting}')\n",
    "print('Round Test set accuracy: {:.2f}'.format(acc_voting))"
   ],
   "id": "aca5abd5e512af12",
   "outputs": [
    {
     "name": "stdout",
     "output_type": "stream",
     "text": [
      "Voting Hard\n",
      "Test set accuracy 0.7402597402597403\n",
      "Round Test set accuracy: 0.74\n"
     ]
    }
   ],
   "execution_count": 10
  }
 ],
 "metadata": {
  "kernelspec": {
   "display_name": "Python 3",
   "language": "python",
   "name": "python3"
  },
  "language_info": {
   "codemirror_mode": {
    "name": "ipython",
    "version": 2
   },
   "file_extension": ".py",
   "mimetype": "text/x-python",
   "name": "python",
   "nbconvert_exporter": "python",
   "pygments_lexer": "ipython2",
   "version": "2.7.6"
  }
 },
 "nbformat": 4,
 "nbformat_minor": 5
}
