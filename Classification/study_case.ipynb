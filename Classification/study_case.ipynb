{
 "cells": [
  {
   "metadata": {},
   "cell_type": "markdown",
   "source": "Create a classification model using SVM based on the data in day_night_image_classification code using the histogram feature. ",
   "id": "b86b5498aeadc739"
  },
  {
   "metadata": {},
   "cell_type": "markdown",
   "source": "# **Import Libraries**",
   "id": "462c0fe05515a3ed"
  },
  {
   "metadata": {
    "ExecuteTime": {
     "end_time": "2024-09-24T14:56:16.556843Z",
     "start_time": "2024-09-24T14:56:16.554133Z"
    }
   },
   "cell_type": "code",
   "source": [
    "import cv2\n",
    "import numpy as np\n",
    "from sklearn.metrics import accuracy_score\n",
    "import os"
   ],
   "id": "7f1abf7bfffd7259",
   "outputs": [],
   "execution_count": 75
  },
  {
   "metadata": {},
   "cell_type": "markdown",
   "source": "# **Path to Images Directory**",
   "id": "bff897df50b8409e"
  },
  {
   "metadata": {
    "ExecuteTime": {
     "end_time": "2024-09-24T14:56:16.589455Z",
     "start_time": "2024-09-24T14:56:16.573355Z"
    }
   },
   "cell_type": "code",
   "source": [
    "# Path to training and test images\n",
    "train_dir = 'Data/images/training/'\n",
    "test_dir = 'Data/images/test/'"
   ],
   "id": "8c5def2667f9b5c3",
   "outputs": [],
   "execution_count": 76
  },
  {
   "metadata": {},
   "cell_type": "markdown",
   "source": "# **Create functions for Histogram and Standardize images**",
   "id": "6d00c45d223c53ad"
  },
  {
   "metadata": {
    "ExecuteTime": {
     "end_time": "2024-09-24T14:56:16.639892Z",
     "start_time": "2024-09-24T14:56:16.634053Z"
    }
   },
   "cell_type": "code",
   "source": [
    "def compute_histogram(image):\n",
    "    # Convert the image to HSV\n",
    "    hsv = cv2.cvtColor(image, cv2.COLOR_RGB2HSV)\n",
    "    \n",
    "    # Compute the histogram (16 bins for each channel)\n",
    "    hist = cv2.calcHist([hsv], [0, 1, 2], None, [16, 16, 16], [0, 180, 0, 256, 0, 256])\n",
    "    \n",
    "    # Normalize the histogram\n",
    "    cv2.normalize(hist, hist)\n",
    "    \n",
    "    # Flatten the histogram to create the feature vector\n",
    "    return hist.flatten()\n",
    "\n",
    "def standarized_input(image):\n",
    "    # resize to w: 1100, h:600\n",
    "    std_img = cv2.resize(image, (1100,600))\n",
    "\n",
    "    return std_img"
   ],
   "id": "a68dae62f3b8d4f8",
   "outputs": [],
   "execution_count": 77
  },
  {
   "metadata": {},
   "cell_type": "markdown",
   "source": "# **Create function to load Images and Labes**",
   "id": "9901236c587be255"
  },
  {
   "metadata": {
    "ExecuteTime": {
     "end_time": "2024-09-24T14:56:16.694774Z",
     "start_time": "2024-09-24T14:56:16.688713Z"
    }
   },
   "cell_type": "code",
   "source": [
    "def load_histogram_std_img(directory):\n",
    "    data = []\n",
    "    labels = []\n",
    "    \n",
    "    for label in ['day', 'night']:\n",
    "        path = os.path.join(directory, label)\n",
    "        for filename in os.listdir(path):\n",
    "            if filename.endswith('.jpg') or filename.endswith('.png'):\n",
    "                img_path = os.path.join(path, filename)\n",
    "                \n",
    "                # Read and resize the image\n",
    "                image = cv2.imread(img_path)\n",
    "                resized_image = standarized_input(image)\n",
    "                \n",
    "                # Compute histogram features\n",
    "                hist = compute_histogram(resized_image)\n",
    "                \n",
    "                # Append features and label\n",
    "                data.append(hist)\n",
    "                labels.append(0 if label == 'night' else 1)  # 0 for night, 1 for day\n",
    "                \n",
    "    return np.array(data), np.array(labels)"
   ],
   "id": "dbd8472eee83e88",
   "outputs": [],
   "execution_count": 78
  },
  {
   "metadata": {},
   "cell_type": "markdown",
   "source": "# **Load Training and Test Data**",
   "id": "91f62644891b1d53"
  },
  {
   "metadata": {
    "ExecuteTime": {
     "end_time": "2024-09-24T14:56:21.658806Z",
     "start_time": "2024-09-24T14:56:16.748841Z"
    }
   },
   "cell_type": "code",
   "source": [
    "X_train, y_train = load_histogram_std_img(train_dir)\n",
    "X_test, y_test = load_histogram_std_img(test_dir)\n",
    "\n",
    "# show the shape of the data\n",
    "print(f'Training data shape: {X_train.shape}')\n",
    "print(f'Test data shape: {X_test.shape}')"
   ],
   "id": "6f615555ce13b073",
   "outputs": [
    {
     "name": "stdout",
     "output_type": "stream",
     "text": [
      "Training data shape: (240, 4096)\n",
      "Test data shape: (160, 4096)\n"
     ]
    }
   ],
   "execution_count": 79
  },
  {
   "metadata": {},
   "cell_type": "markdown",
   "source": "# **Grid Search for Hyperparameter Tuning**",
   "id": "244ad01a791f6e66"
  },
  {
   "metadata": {
    "ExecuteTime": {
     "end_time": "2024-09-24T14:56:24.465070Z",
     "start_time": "2024-09-24T14:56:21.758732Z"
    }
   },
   "cell_type": "code",
   "source": [
    "from sklearn import svm\n",
    "from sklearn.pipeline import Pipeline\n",
    "from sklearn.decomposition import PCA\n",
    "from sklearn.model_selection import GridSearchCV\n",
    "\n",
    "# Create a pipeline with PCA and SVM\n",
    "pipe = Pipeline(steps=[\n",
    "    ('pca', PCA()),\n",
    "    ('svm', svm.SVC())\n",
    "])\n",
    "\n",
    "# Define the parameter grid for GridSearch\n",
    "param_grid = {\n",
    "    'pca__n_components': [10, 20, 30, 50],  # Number of PCA components\n",
    "    'svm__C': [0.1, 1, 10],                 # Regularization parameter for SVM\n",
    "    'svm__kernel': ['linear', 'rbf']         # Kernel types\n",
    "}\n",
    "\n",
    "# Initialize GridSearchCV\n",
    "grid_search = GridSearchCV(pipe, param_grid, cv=5, scoring='accuracy')\n",
    "\n",
    "# Fit the model on training data\n",
    "grid_search.fit(X_train, y_train)\n",
    "print(grid_search.best_params_)\n",
    "print(grid_search.best_score_)"
   ],
   "id": "5ac1f8a67573606a",
   "outputs": [
    {
     "name": "stdout",
     "output_type": "stream",
     "text": [
      "{'pca__n_components': 30, 'svm__C': 1, 'svm__kernel': 'rbf'}\n",
      "0.9916666666666666\n"
     ]
    }
   ],
   "execution_count": 81
  },
  {
   "metadata": {},
   "cell_type": "markdown",
   "source": "# **Evaluate the Model**",
   "id": "7ba5d5b01b2073c4"
  },
  {
   "metadata": {
    "ExecuteTime": {
     "end_time": "2024-09-24T14:58:31.920600Z",
     "start_time": "2024-09-24T14:58:31.881263Z"
    }
   },
   "cell_type": "code",
   "source": [
    "# Get the best model from GridSearch\n",
    "best_model = grid_search.best_estimator_\n",
    "\n",
    "# Predict on train data\n",
    "train_predictions = best_model.predict(X_train)\n",
    "# Predict on test data\n",
    "test_predictions = best_model.predict(X_test)\n",
    "\n",
    "# Evaluate accuracy\n",
    "train_accuracy = accuracy_score(y_train, train_predictions)\n",
    "print(f\"Train Accuracy: {train_accuracy * 100:.4f}%\")\n",
    "\n",
    "test_accuracy = accuracy_score(y_test, test_predictions)\n",
    "print(f\"Test Accuracy: {test_accuracy * 100:.4f}%\")"
   ],
   "id": "ec90f1a3904570b",
   "outputs": [
    {
     "name": "stdout",
     "output_type": "stream",
     "text": [
      "Train Accuracy: 99.1667%\n",
      "Test Accuracy: 96.8750%\n"
     ]
    }
   ],
   "execution_count": 83
  }
 ],
 "metadata": {
  "kernelspec": {
   "display_name": "Python 3",
   "language": "python",
   "name": "python3"
  },
  "language_info": {
   "codemirror_mode": {
    "name": "ipython",
    "version": 2
   },
   "file_extension": ".py",
   "mimetype": "text/x-python",
   "name": "python",
   "nbconvert_exporter": "python",
   "pygments_lexer": "ipython2",
   "version": "2.7.6"
  }
 },
 "nbformat": 4,
 "nbformat_minor": 5
}
